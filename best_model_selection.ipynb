{
 "cells": [
  {
   "cell_type": "markdown",
   "metadata": {},
   "source": [
    "# Best Model Selection"
   ]
  },
  {
   "cell_type": "markdown",
   "metadata": {},
   "source": [
    "Rusty Bargain used car sales service is developing an app to attract new customers. In that app, you can quickly find out the market value of your car. You have access to historical data: technical specifications, trim versions, and prices. You need to build the model to determine the value. \n",
    "\n",
    "Rusty Bargain is interested in:\n",
    "\n",
    "- the quality of the prediction;\n",
    "- the speed of the prediction;\n",
    "- the time required for training"
   ]
  },
  {
   "cell_type": "code",
   "execution_count": 1,
   "metadata": {},
   "outputs": [],
   "source": [
    "import pandas as pd\n",
    "import numpy as np\n",
    "import warnings\n",
    "import time\n",
    "\n",
    "from sklearn.model_selection import train_test_split\n",
    "from sklearn.preprocessing import OrdinalEncoder\n",
    "from sklearn.preprocessing import OneHotEncoder\n",
    "from sklearn.impute import KNNImputer\n",
    "\n",
    "from sklearn.linear_model import LinearRegression\n",
    "from sklearn.tree import DecisionTreeRegressor\n",
    "from sklearn.ensemble import RandomForestRegressor\n",
    "from sklearn.metrics import mean_squared_error\n",
    "\n",
    "from sklearn.model_selection import RepeatedKFold\n",
    "from sklearn.model_selection import GridSearchCV\n",
    "\n",
    "random = 42\n",
    "warnings.filterwarnings(\"ignore\")"
   ]
  },
  {
   "cell_type": "markdown",
   "metadata": {},
   "source": [
    "## Data preparation"
   ]
  },
  {
   "cell_type": "code",
   "execution_count": 2,
   "metadata": {},
   "outputs": [],
   "source": [
    "df = pd.read_csv('/datasets/car_data.csv', parse_dates=['DateCrawled','DateCreated','LastSeen'], nrows=5000)\n",
    "\n",
    "df.columns = ['date', 'price', 'vehicle_type', 'registration_year', 'gearbox',\n",
    "       'power', 'model', 'mileage', 'registration_month', 'fuel_type', 'brand',\n",
    "       'not_repaired', 'created', 'pictures', 'postal','last_seen']"
   ]
  },
  {
   "cell_type": "code",
   "execution_count": 3,
   "metadata": {},
   "outputs": [
    {
     "name": "stdout",
     "output_type": "stream",
     "text": [
      "                 date  price vehicle_type  registration_year gearbox  power  \\\n",
      "0 2016-03-24 11:52:00    480          NaN               1993  manual      0   \n",
      "1 2016-03-24 10:58:00  18300        coupe               2011  manual    190   \n",
      "2 2016-03-14 12:52:00   9800          suv               2004    auto    163   \n",
      "\n",
      "   model  mileage  registration_month fuel_type       brand not_repaired  \\\n",
      "0   golf   150000                   0    petrol  volkswagen          NaN   \n",
      "1    NaN   125000                   5  gasoline        audi          yes   \n",
      "2  grand   125000                   8  gasoline        jeep          NaN   \n",
      "\n",
      "     created  pictures  postal           last_seen  \n",
      "0 2016-03-24         0   70435 2016-07-04 03:16:00  \n",
      "1 2016-03-24         0   66954 2016-07-04 01:46:00  \n",
      "2 2016-03-14         0   90480 2016-05-04 12:47:00  \n",
      "------------------------------------------------------------------------------\n",
      "Present of missing values:\n",
      "vehicle_type    11.74\n",
      "gearbox          5.80\n",
      "model            5.28\n",
      "fuel_type       10.04\n",
      "not_repaired    20.34\n",
      "dtype: float64\n",
      "------------------------------------------------------------------------------\n",
      "date                  4014\n",
      "price                  735\n",
      "vehicle_type             8\n",
      "registration_year       54\n",
      "gearbox                  2\n",
      "power                  226\n",
      "model                  217\n",
      "mileage                 13\n",
      "registration_month      13\n",
      "fuel_type                7\n",
      "brand                   40\n",
      "not_repaired             2\n",
      "created                 47\n",
      "pictures                 1\n",
      "postal                2994\n",
      "last_seen             2707\n",
      "dtype: int64\n",
      "------------------------------------------------------------------------------\n",
      "<class 'pandas.core.frame.DataFrame'>\n",
      "RangeIndex: 5000 entries, 0 to 4999\n",
      "Data columns (total 16 columns):\n",
      " #   Column              Non-Null Count  Dtype         \n",
      "---  ------              --------------  -----         \n",
      " 0   date                5000 non-null   datetime64[ns]\n",
      " 1   price               5000 non-null   int64         \n",
      " 2   vehicle_type        4413 non-null   object        \n",
      " 3   registration_year   5000 non-null   int64         \n",
      " 4   gearbox             4710 non-null   object        \n",
      " 5   power               5000 non-null   int64         \n",
      " 6   model               4736 non-null   object        \n",
      " 7   mileage             5000 non-null   int64         \n",
      " 8   registration_month  5000 non-null   int64         \n",
      " 9   fuel_type           4498 non-null   object        \n",
      " 10  brand               5000 non-null   object        \n",
      " 11  not_repaired        3983 non-null   object        \n",
      " 12  created             5000 non-null   datetime64[ns]\n",
      " 13  pictures            5000 non-null   int64         \n",
      " 14  postal              5000 non-null   int64         \n",
      " 15  last_seen           5000 non-null   datetime64[ns]\n",
      "dtypes: datetime64[ns](3), int64(7), object(6)\n",
      "memory usage: 625.1+ KB\n",
      "None\n"
     ]
    }
   ],
   "source": [
    "print(df.head(3))\n",
    "print(\"------------------------------------------------------------------------------\")\n",
    "print('Present of missing values:')\n",
    "print(round(100*df.isnull().sum()[df.isnull().sum()>0]/len(df),2))\n",
    "print(\"------------------------------------------------------------------------------\")\n",
    "print(df.nunique())\n",
    "print(\"------------------------------------------------------------------------------\")\n",
    "print(df.info())"
   ]
  },
  {
   "cell_type": "code",
   "execution_count": 4,
   "metadata": {},
   "outputs": [
    {
     "data": {
      "text/plain": [
       "array([[<AxesSubplot:title={'center':'date'}>,\n",
       "        <AxesSubplot:title={'center':'price'}>,\n",
       "        <AxesSubplot:title={'center':'registration_year'}>],\n",
       "       [<AxesSubplot:title={'center':'power'}>,\n",
       "        <AxesSubplot:title={'center':'mileage'}>,\n",
       "        <AxesSubplot:title={'center':'registration_month'}>],\n",
       "       [<AxesSubplot:title={'center':'created'}>,\n",
       "        <AxesSubplot:title={'center':'pictures'}>,\n",
       "        <AxesSubplot:title={'center':'postal'}>],\n",
       "       [<AxesSubplot:title={'center':'last_seen'}>, <AxesSubplot:>,\n",
       "        <AxesSubplot:>]], dtype=object)"
      ]
     },
     "execution_count": 4,
     "metadata": {},
     "output_type": "execute_result"
    },
    {
     "data": {
      "image/png": "[encoded data removed]",
      "text/plain": [
       "<Figure size 1080x720 with 12 Axes>"
      ]
     },
     "metadata": {
      "needs_background": "light"
     },
     "output_type": "display_data"
    }
   ],
   "source": [
    "df.hist(bins=30, figsize=(15, 10))"
   ]
  },
  {
   "cell_type": "markdown",
   "metadata": {},
   "source": [
    "### Study Features:\n",
    "- 'date' , 'created' and 'last_seen' are irrelevant features for price prediction.\n",
    "- 'pictures' is 0 in all rows, can be discarded.\n",
    "- other features looking fine."
   ]
  },
  {
   "cell_type": "markdown",
   "metadata": {},
   "source": [
    "### Select relevant features, and define catagorical features list:"
   ]
  },
  {
   "cell_type": "code",
   "execution_count": 5,
   "metadata": {},
   "outputs": [],
   "source": [
    "irrelevant_features = ['date', 'created', 'last_seen', 'pictures']\n",
    "cat_cols = ['vehicle_type', 'gearbox', 'model', 'fuel_type', 'brand','not_repaired']\n",
    "\n",
    "original_df = df.copy()\n",
    "df = df.drop(irrelevant_features, axis=1)"
   ]
  },
  {
   "cell_type": "code",
   "execution_count": 6,
   "metadata": {},
   "outputs": [
    {
     "data": {
      "text/html": [
       "<div>\n",
       "<style scoped>\n",
       "    .dataframe tbody tr th:only-of-type {\n",
       "        vertical-align: middle;\n",
       "    }\n",
       "\n",
       "    .dataframe tbody tr th {\n",
       "        vertical-align: top;\n",
       "    }\n",
       "\n",
       "    .dataframe thead th {\n",
       "        text-align: right;\n",
       "    }\n",
       "</style>\n",
       "<table border=\"1\" class=\"dataframe\">\n",
       "  <thead>\n",
       "    <tr style=\"text-align: right;\">\n",
       "      <th></th>\n",
       "      <th>price</th>\n",
       "      <th>vehicle_type</th>\n",
       "      <th>registration_year</th>\n",
       "      <th>gearbox</th>\n",
       "      <th>power</th>\n",
       "      <th>model</th>\n",
       "      <th>mileage</th>\n",
       "      <th>registration_month</th>\n",
       "      <th>fuel_type</th>\n",
       "      <th>brand</th>\n",
       "      <th>not_repaired</th>\n",
       "      <th>postal</th>\n",
       "    </tr>\n",
       "  </thead>\n",
       "  <tbody>\n",
       "    <tr>\n",
       "      <th>0</th>\n",
       "      <td>480</td>\n",
       "      <td>NaN</td>\n",
       "      <td>1993</td>\n",
       "      <td>manual</td>\n",
       "      <td>0</td>\n",
       "      <td>golf</td>\n",
       "      <td>150000</td>\n",
       "      <td>0</td>\n",
       "      <td>petrol</td>\n",
       "      <td>volkswagen</td>\n",
       "      <td>NaN</td>\n",
       "      <td>70435</td>\n",
       "    </tr>\n",
       "    <tr>\n",
       "      <th>1</th>\n",
       "      <td>18300</td>\n",
       "      <td>coupe</td>\n",
       "      <td>2011</td>\n",
       "      <td>manual</td>\n",
       "      <td>190</td>\n",
       "      <td>NaN</td>\n",
       "      <td>125000</td>\n",
       "      <td>5</td>\n",
       "      <td>gasoline</td>\n",
       "      <td>audi</td>\n",
       "      <td>yes</td>\n",
       "      <td>66954</td>\n",
       "    </tr>\n",
       "    <tr>\n",
       "      <th>2</th>\n",
       "      <td>9800</td>\n",
       "      <td>suv</td>\n",
       "      <td>2004</td>\n",
       "      <td>auto</td>\n",
       "      <td>163</td>\n",
       "      <td>grand</td>\n",
       "      <td>125000</td>\n",
       "      <td>8</td>\n",
       "      <td>gasoline</td>\n",
       "      <td>jeep</td>\n",
       "      <td>NaN</td>\n",
       "      <td>90480</td>\n",
       "    </tr>\n",
       "  </tbody>\n",
       "</table>\n",
       "</div>"
      ],
      "text/plain": [
       "   price vehicle_type  registration_year gearbox  power  model  mileage  \\\n",
       "0    480          NaN               1993  manual      0   golf   150000   \n",
       "1  18300        coupe               2011  manual    190    NaN   125000   \n",
       "2   9800          suv               2004    auto    163  grand   125000   \n",
       "\n",
       "   registration_month fuel_type       brand not_repaired  postal  \n",
       "0                   0    petrol  volkswagen          NaN   70435  \n",
       "1                   5  gasoline        audi          yes   66954  \n",
       "2                   8  gasoline        jeep          NaN   90480  "
      ]
     },
     "execution_count": 6,
     "metadata": {},
     "output_type": "execute_result"
    }
   ],
   "source": [
    "df.head(3)"
   ]
  },
  {
   "cell_type": "markdown",
   "metadata": {},
   "source": [
    "### OrdinalEncode all catagorical data in dataset:"
   ]
  },
  {
   "cell_type": "code",
   "execution_count": 7,
   "metadata": {},
   "outputs": [],
   "source": [
    "encode_df = df.copy()\n",
    "encoder = OrdinalEncoder()\n",
    "\n",
    "def encode(data):\n",
    "    '''function to encode non-null data and replace it in the original data'''\n",
    "    nonulls = np.array(data.dropna())\n",
    "    impute_reshape = nonulls.reshape(-1,1)\n",
    "    impute_ordinal = encoder.fit_transform(impute_reshape)\n",
    "    data.loc[data.notnull()] = np.squeeze(impute_ordinal)\n",
    "    return data \n",
    "\n",
    "\n",
    "for columns in cat_cols:\n",
    "    encode_df[columns]  = encode(encode_df[columns])"
   ]
  },
  {
   "cell_type": "code",
   "execution_count": 8,
   "metadata": {
    "scrolled": true
   },
   "outputs": [
    {
     "data": {
      "text/html": [
       "<div>\n",
       "<style scoped>\n",
       "    .dataframe tbody tr th:only-of-type {\n",
       "        vertical-align: middle;\n",
       "    }\n",
       "\n",
       "    .dataframe tbody tr th {\n",
       "        vertical-align: top;\n",
       "    }\n",
       "\n",
       "    .dataframe thead th {\n",
       "        text-align: right;\n",
       "    }\n",
       "</style>\n",
       "<table border=\"1\" class=\"dataframe\">\n",
       "  <thead>\n",
       "    <tr style=\"text-align: right;\">\n",
       "      <th></th>\n",
       "      <th>price</th>\n",
       "      <th>vehicle_type</th>\n",
       "      <th>registration_year</th>\n",
       "      <th>gearbox</th>\n",
       "      <th>power</th>\n",
       "      <th>model</th>\n",
       "      <th>mileage</th>\n",
       "      <th>registration_month</th>\n",
       "      <th>fuel_type</th>\n",
       "      <th>brand</th>\n",
       "      <th>not_repaired</th>\n",
       "      <th>postal</th>\n",
       "    </tr>\n",
       "  </thead>\n",
       "  <tbody>\n",
       "    <tr>\n",
       "      <th>0</th>\n",
       "      <td>480</td>\n",
       "      <td>NaN</td>\n",
       "      <td>1993</td>\n",
       "      <td>1.0</td>\n",
       "      <td>0</td>\n",
       "      <td>102.0</td>\n",
       "      <td>150000</td>\n",
       "      <td>0</td>\n",
       "      <td>6.0</td>\n",
       "      <td>38.0</td>\n",
       "      <td>NaN</td>\n",
       "      <td>70435</td>\n",
       "    </tr>\n",
       "    <tr>\n",
       "      <th>1</th>\n",
       "      <td>18300</td>\n",
       "      <td>2.0</td>\n",
       "      <td>2011</td>\n",
       "      <td>1.0</td>\n",
       "      <td>190</td>\n",
       "      <td>NaN</td>\n",
       "      <td>125000</td>\n",
       "      <td>5</td>\n",
       "      <td>2.0</td>\n",
       "      <td>1.0</td>\n",
       "      <td>1.0</td>\n",
       "      <td>66954</td>\n",
       "    </tr>\n",
       "    <tr>\n",
       "      <th>2</th>\n",
       "      <td>9800</td>\n",
       "      <td>6.0</td>\n",
       "      <td>2004</td>\n",
       "      <td>0.0</td>\n",
       "      <td>163</td>\n",
       "      <td>103.0</td>\n",
       "      <td>125000</td>\n",
       "      <td>8</td>\n",
       "      <td>2.0</td>\n",
       "      <td>14.0</td>\n",
       "      <td>NaN</td>\n",
       "      <td>90480</td>\n",
       "    </tr>\n",
       "  </tbody>\n",
       "</table>\n",
       "</div>"
      ],
      "text/plain": [
       "   price vehicle_type  registration_year gearbox  power  model  mileage  \\\n",
       "0    480          NaN               1993     1.0      0  102.0   150000   \n",
       "1  18300          2.0               2011     1.0    190    NaN   125000   \n",
       "2   9800          6.0               2004     0.0    163  103.0   125000   \n",
       "\n",
       "   registration_month fuel_type  brand not_repaired  postal  \n",
       "0                   0       6.0   38.0          NaN   70435  \n",
       "1                   5       2.0    1.0          1.0   66954  \n",
       "2                   8       2.0   14.0          NaN   90480  "
      ]
     },
     "execution_count": 8,
     "metadata": {},
     "output_type": "execute_result"
    }
   ],
   "source": [
    "encode_df.head(3)"
   ]
  },
  {
   "cell_type": "markdown",
   "metadata": {},
   "source": [
    "### Split the source data into a training set, a validation set, and a test set:\n"
   ]
  },
  {
   "cell_type": "code",
   "execution_count": 9,
   "metadata": {},
   "outputs": [],
   "source": [
    "impute_data = encode_df.copy()\n",
    "\n",
    "df_train, df_valid = train_test_split(impute_data, test_size=0.3, random_state = random)\n",
    "\n",
    "features_train = df_train.drop(['price'], axis=1)\n",
    "target_train = df_train['price']\n",
    "\n",
    "features_valid = df_valid.drop(['price'], axis=1)\n",
    "target_valid = df_valid['price']"
   ]
  },
  {
   "cell_type": "markdown",
   "metadata": {},
   "source": [
    "### KNNImput missing values in dataset than OneHotEncoder them:"
   ]
  },
  {
   "cell_type": "code",
   "execution_count": 10,
   "metadata": {},
   "outputs": [],
   "source": [
    "imputer = KNNImputer()\n",
    "features_train = pd.DataFrame(np.round(imputer.fit_transform(features_train)),columns = features_train.columns)\n",
    "features_valid = pd.DataFrame(np.round(imputer.transform(features_valid)),columns = features_valid.columns)"
   ]
  },
  {
   "cell_type": "code",
   "execution_count": 11,
   "metadata": {},
   "outputs": [],
   "source": [
    "ohe = OneHotEncoder(sparse=False, handle_unknown='ignore')\n",
    "\n",
    "array_hot_encoded = ohe.fit_transform(features_train[cat_cols])\n",
    "data_hot_encoded = pd.DataFrame(array_hot_encoded, columns = ohe.get_feature_names(cat_cols))\n",
    "data_other_cols = features_train.drop(columns=cat_cols)\n",
    "features_train_hot = pd.concat([data_hot_encoded, data_other_cols], axis=1)\n",
    "\n",
    "array_hot_encoded = ohe.transform(features_valid[cat_cols])\n",
    "data_hot_encoded = pd.DataFrame(array_hot_encoded, columns = ohe.get_feature_names(cat_cols))\n",
    "data_other_cols = features_valid.drop(columns=cat_cols)\n",
    "features_valid_hot = pd.concat([data_hot_encoded, data_other_cols], axis=1)\n"
   ]
  },
  {
   "cell_type": "markdown",
   "metadata": {},
   "source": [
    "## Model training\n",
    "### DecisionTreeRegressor optimization:\n"
   ]
  },
  {
   "cell_type": "code",
   "execution_count": 12,
   "metadata": {},
   "outputs": [
    {
     "name": "stdout",
     "output_type": "stream",
     "text": [
      "Best Score: -2548.1338495062623\n",
      "Best Hyperparameters: {'criterion': 'friedman_mse', 'max_features': 'auto', 'min_samples_leaf': 16, 'min_samples_split': 5, 'splitter': 'best'}\n",
      "CPU times: user 8min 58s, sys: 1.39 s, total: 8min 59s\n",
      "Wall time: 8min 59s\n"
     ]
    }
   ],
   "source": [
    "%%time\n",
    "model = DecisionTreeRegressor()\n",
    "cv = RepeatedKFold(n_splits = 10, n_repeats = 3, random_state = random)\n",
    "\n",
    "# search space\n",
    "dt_grid = dict()\n",
    "dt_grid['criterion'] = ['squared_error', 'friedman_mse', 'absolute_error', 'poisson']\n",
    "dt_grid['splitter'] = ['best', 'random']\n",
    "dt_grid['max_features'] = ['auto', 'sqrt', None, 'log2']\n",
    "dt_grid['min_samples_split'] = [2, 5, 10, 15 ]\n",
    "dt_grid['min_samples_leaf'] = [1, 5, 12, 16 ,20, 30]\n",
    "\n",
    "search = GridSearchCV(model, dt_grid, scoring='neg_root_mean_squared_error', n_jobs=-1, cv=cv)\n",
    "t0= time.time()\n",
    "\n",
    "result = search.fit(features_train_hot, target_train)\n",
    "t1= time.time()\n",
    "\n",
    "yhat = result.predict(features_valid_hot)\n",
    "t2= time.time()\n",
    "\n",
    "dtree_params = result.best_params_\n",
    "dtree_model = result.best_estimator_\n",
    "\n",
    "dtree_op_RMSE = mean_squared_error(target_valid, yhat)**0.5\n",
    "dtree_op_score = {'rmse': [dtree_op_RMSE], 'training_time': [t1 - t0 ],'prediction_time': [t2 - t1 ]}\n",
    "dtree_op_score = pd.DataFrame(dtree_op_score, index = [ 'DecisionTreeRegressorOptim' ])\n",
    "\n",
    "print('Best Score: %s' % result.best_score_)\n",
    "print('Best Hyperparameters: %s' % result.best_params_)"
   ]
  },
  {
   "cell_type": "markdown",
   "metadata": {},
   "source": [
    "### RandomForestRegressor optimization:"
   ]
  },
  {
   "cell_type": "code",
   "execution_count": 23,
   "metadata": {},
   "outputs": [
    {
     "name": "stdout",
     "output_type": "stream",
     "text": [
      "Fitting 3 folds for each of 100 candidates, totalling 300 fits\n",
      "[CV] END bootstrap=True, criterion=squared_error, max_depth=100, max_features=auto, min_samples_leaf=14, min_samples_split=20, n_estimators=50; total time=   0.0s\n",
      "[CV] END bootstrap=True, criterion=squared_error, max_depth=100, max_features=auto, min_samples_leaf=14, min_samples_split=20, n_estimators=50; total time=   0.0s\n",
      "[CV] END bootstrap=True, criterion=squared_error, max_depth=100, max_features=auto, min_samples_leaf=14, min_samples_split=20, n_estimators=50; total time=   0.0s\n",
      "[CV] END bootstrap=True, criterion=squared_error, max_depth=10, max_features=sqrt, min_samples_leaf=30, min_samples_split=40, n_estimators=300; total time=   0.1s\n",
      "[CV] END bootstrap=True, criterion=squared_error, max_depth=10, max_features=sqrt, min_samples_leaf=30, min_samples_split=40, n_estimators=300; total time=   0.1s\n",
      "[CV] END bootstrap=True, criterion=squared_error, max_depth=10, max_features=sqrt, min_samples_leaf=30, min_samples_split=40, n_estimators=300; total time=   0.1s\n",
      "[CV] END bootstrap=False, criterion=absolute_error, max_depth=50, max_features=sqrt, min_samples_leaf=20, min_samples_split=20, n_estimators=300; total time=   0.1s\n",
      "[CV] END bootstrap=False, criterion=absolute_error, max_depth=50, max_features=sqrt, min_samples_leaf=20, min_samples_split=20, n_estimators=300; total time=   0.1s\n",
      "[CV] END bootstrap=False, criterion=absolute_error, max_depth=50, max_features=sqrt, min_samples_leaf=20, min_samples_split=20, n_estimators=300; total time=   0.1s\n",
      "[CV] END bootstrap=False, criterion=squared_error, max_depth=20, max_features=log2, min_samples_leaf=1, min_samples_split=10, n_estimators=250; total time=   0.1s\n",
      "[CV] END bootstrap=False, criterion=squared_error, max_depth=20, max_features=log2, min_samples_leaf=1, min_samples_split=10, n_estimators=250; total time=   0.1s\n",
      "[CV] END bootstrap=False, criterion=squared_error, max_depth=20, max_features=log2, min_samples_leaf=1, min_samples_split=10, n_estimators=250; total time=   0.1s\n",
      "[CV] END bootstrap=True, criterion=squared_error, max_depth=40, max_features=None, min_samples_leaf=14, min_samples_split=2, n_estimators=100; total time=   0.0s\n",
      "[CV] END bootstrap=True, criterion=squared_error, max_depth=40, max_features=None, min_samples_leaf=14, min_samples_split=2, n_estimators=100; total time=   0.0s\n",
      "[CV] END bootstrap=True, criterion=squared_error, max_depth=40, max_features=None, min_samples_leaf=14, min_samples_split=2, n_estimators=100; total time=   0.0s\n",
      "[CV] END bootstrap=False, criterion=absolute_error, max_depth=80, max_features=None, min_samples_leaf=16, min_samples_split=30, n_estimators=50; total time=   0.0s\n",
      "[CV] END bootstrap=False, criterion=absolute_error, max_depth=80, max_features=None, min_samples_leaf=16, min_samples_split=30, n_estimators=50; total time=   0.0s\n",
      "[CV] END bootstrap=False, criterion=absolute_error, max_depth=80, max_features=None, min_samples_leaf=16, min_samples_split=30, n_estimators=50; total time=   0.0s\n",
      "[CV] END bootstrap=True, criterion=poisson, max_depth=20, max_features=None, min_samples_leaf=1, min_samples_split=30, n_estimators=350; total time=   9.0s\n",
      "[CV] END bootstrap=True, criterion=poisson, max_depth=20, max_features=None, min_samples_leaf=1, min_samples_split=30, n_estimators=350; total time=   9.2s\n",
      "[CV] END bootstrap=True, criterion=poisson, max_depth=20, max_features=None, min_samples_leaf=1, min_samples_split=30, n_estimators=350; total time=   9.3s\n",
      "[CV] END bootstrap=False, criterion=poisson, max_depth=10, max_features=None, min_samples_leaf=14, min_samples_split=10, n_estimators=50; total time=   1.0s\n",
      "[CV] END bootstrap=False, criterion=poisson, max_depth=10, max_features=None, min_samples_leaf=14, min_samples_split=10, n_estimators=50; total time=   1.1s\n",
      "[CV] END bootstrap=False, criterion=poisson, max_depth=10, max_features=None, min_samples_leaf=14, min_samples_split=10, n_estimators=50; total time=   1.0s\n",
      "[CV] END bootstrap=True, criterion=poisson, max_depth=60, max_features=None, min_samples_leaf=2, min_samples_split=5, n_estimators=250; total time=  15.2s\n",
      "[CV] END bootstrap=True, criterion=poisson, max_depth=60, max_features=None, min_samples_leaf=2, min_samples_split=5, n_estimators=250; total time=  15.2s\n",
      "[CV] END bootstrap=True, criterion=poisson, max_depth=60, max_features=None, min_samples_leaf=2, min_samples_split=5, n_estimators=250; total time=  15.6s\n",
      "[CV] END bootstrap=False, criterion=squared_error, max_depth=50, max_features=log2, min_samples_leaf=12, min_samples_split=40, n_estimators=450; total time=   0.1s\n",
      "[CV] END bootstrap=False, criterion=squared_error, max_depth=50, max_features=log2, min_samples_leaf=12, min_samples_split=40, n_estimators=450; total time=   0.1s\n",
      "[CV] END bootstrap=False, criterion=squared_error, max_depth=50, max_features=log2, min_samples_leaf=12, min_samples_split=40, n_estimators=450; total time=   0.1s\n",
      "[CV] END bootstrap=True, criterion=squared_error, max_depth=100, max_features=sqrt, min_samples_leaf=1, min_samples_split=30, n_estimators=200; total time=   0.1s\n",
      "[CV] END bootstrap=True, criterion=squared_error, max_depth=100, max_features=sqrt, min_samples_leaf=1, min_samples_split=30, n_estimators=200; total time=   0.1s\n",
      "[CV] END bootstrap=True, criterion=squared_error, max_depth=100, max_features=sqrt, min_samples_leaf=1, min_samples_split=30, n_estimators=200; total time=   0.1s\n",
      "[CV] END bootstrap=True, criterion=poisson, max_depth=40, max_features=log2, min_samples_leaf=1, min_samples_split=40, n_estimators=300; total time=   1.0s\n",
      "[CV] END bootstrap=True, criterion=poisson, max_depth=40, max_features=log2, min_samples_leaf=1, min_samples_split=40, n_estimators=300; total time=   1.0s\n",
      "[CV] END bootstrap=True, criterion=poisson, max_depth=40, max_features=log2, min_samples_leaf=1, min_samples_split=40, n_estimators=300; total time=   1.1s\n",
      "[CV] END bootstrap=False, criterion=squared_error, max_depth=90, max_features=log2, min_samples_leaf=14, min_samples_split=40, n_estimators=50; total time=   0.0s\n",
      "[CV] END bootstrap=False, criterion=squared_error, max_depth=90, max_features=log2, min_samples_leaf=14, min_samples_split=40, n_estimators=50; total time=   0.0s\n",
      "[CV] END bootstrap=False, criterion=squared_error, max_depth=90, max_features=log2, min_samples_leaf=14, min_samples_split=40, n_estimators=50; total time=   0.0s\n",
      "[CV] END bootstrap=False, criterion=squared_error, max_depth=80, max_features=None, min_samples_leaf=1, min_samples_split=10, n_estimators=150; total time=   0.0s\n",
      "[CV] END bootstrap=False, criterion=squared_error, max_depth=80, max_features=None, min_samples_leaf=1, min_samples_split=10, n_estimators=150; total time=   0.0s\n",
      "[CV] END bootstrap=False, criterion=squared_error, max_depth=80, max_features=None, min_samples_leaf=1, min_samples_split=10, n_estimators=150; total time=   0.0s\n",
      "[CV] END bootstrap=True, criterion=squared_error, max_depth=10, max_features=sqrt, min_samples_leaf=20, min_samples_split=5, n_estimators=250; total time=   0.1s\n",
      "[CV] END bootstrap=True, criterion=squared_error, max_depth=10, max_features=sqrt, min_samples_leaf=20, min_samples_split=5, n_estimators=250; total time=   0.1s\n",
      "[CV] END bootstrap=True, criterion=squared_error, max_depth=10, max_features=sqrt, min_samples_leaf=20, min_samples_split=5, n_estimators=250; total time=   0.1s\n",
      "[CV] END bootstrap=False, criterion=squared_error, max_depth=50, max_features=None, min_samples_leaf=7, min_samples_split=5, n_estimators=150; total time=   0.0s\n",
      "[CV] END bootstrap=False, criterion=squared_error, max_depth=50, max_features=None, min_samples_leaf=7, min_samples_split=5, n_estimators=150; total time=   0.0s\n",
      "[CV] END bootstrap=False, criterion=squared_error, max_depth=50, max_features=None, min_samples_leaf=7, min_samples_split=5, n_estimators=150; total time=   0.0s\n",
      "[CV] END bootstrap=False, criterion=squared_error, max_depth=70, max_features=sqrt, min_samples_leaf=16, min_samples_split=40, n_estimators=50; total time=   0.0s\n",
      "[CV] END bootstrap=False, criterion=squared_error, max_depth=70, max_features=sqrt, min_samples_leaf=16, min_samples_split=40, n_estimators=50; total time=   0.0s\n",
      "[CV] END bootstrap=False, criterion=squared_error, max_depth=70, max_features=sqrt, min_samples_leaf=16, min_samples_split=40, n_estimators=50; total time=   0.0s\n",
      "[CV] END bootstrap=False, criterion=squared_error, max_depth=80, max_features=None, min_samples_leaf=7, min_samples_split=5, n_estimators=450; total time=   0.1s\n",
      "[CV] END bootstrap=False, criterion=squared_error, max_depth=80, max_features=None, min_samples_leaf=7, min_samples_split=5, n_estimators=450; total time=   0.1s\n",
      "[CV] END bootstrap=False, criterion=squared_error, max_depth=80, max_features=None, min_samples_leaf=7, min_samples_split=5, n_estimators=450; total time=   0.1s\n",
      "[CV] END bootstrap=False, criterion=squared_error, max_depth=100, max_features=sqrt, min_samples_leaf=7, min_samples_split=30, n_estimators=100; total time=   0.0s\n",
      "[CV] END bootstrap=False, criterion=squared_error, max_depth=100, max_features=sqrt, min_samples_leaf=7, min_samples_split=30, n_estimators=100; total time=   0.0s\n",
      "[CV] END bootstrap=False, criterion=squared_error, max_depth=100, max_features=sqrt, min_samples_leaf=7, min_samples_split=30, n_estimators=100; total time=   0.0s\n",
      "[CV] END bootstrap=True, criterion=squared_error, max_depth=40, max_features=auto, min_samples_leaf=7, min_samples_split=10, n_estimators=100; total time=   0.0s\n",
      "[CV] END bootstrap=True, criterion=squared_error, max_depth=40, max_features=auto, min_samples_leaf=7, min_samples_split=10, n_estimators=100; total time=   0.0s\n",
      "[CV] END bootstrap=True, criterion=squared_error, max_depth=40, max_features=auto, min_samples_leaf=7, min_samples_split=10, n_estimators=100; total time=   0.0s\n",
      "[CV] END bootstrap=False, criterion=poisson, max_depth=100, max_features=log2, min_samples_leaf=2, min_samples_split=40, n_estimators=450; total time=   2.2s\n",
      "[CV] END bootstrap=False, criterion=poisson, max_depth=100, max_features=log2, min_samples_leaf=2, min_samples_split=40, n_estimators=450; total time=   2.1s\n",
      "[CV] END bootstrap=False, criterion=poisson, max_depth=100, max_features=log2, min_samples_leaf=2, min_samples_split=40, n_estimators=450; total time=   2.2s\n",
      "[CV] END bootstrap=False, criterion=absolute_error, max_depth=90, max_features=auto, min_samples_leaf=7, min_samples_split=40, n_estimators=400; total time=   0.1s\n",
      "[CV] END bootstrap=False, criterion=absolute_error, max_depth=90, max_features=auto, min_samples_leaf=7, min_samples_split=40, n_estimators=400; total time=   0.1s\n",
      "[CV] END bootstrap=False, criterion=absolute_error, max_depth=90, max_features=auto, min_samples_leaf=7, min_samples_split=40, n_estimators=400; total time=   0.1s\n",
      "[CV] END bootstrap=False, criterion=squared_error, max_depth=20, max_features=auto, min_samples_leaf=7, min_samples_split=20, n_estimators=250; total time=   0.1s\n",
      "[CV] END bootstrap=False, criterion=squared_error, max_depth=20, max_features=auto, min_samples_leaf=7, min_samples_split=20, n_estimators=250; total time=   0.1s\n",
      "[CV] END bootstrap=False, criterion=squared_error, max_depth=20, max_features=auto, min_samples_leaf=7, min_samples_split=20, n_estimators=250; total time=   0.1s\n",
      "[CV] END bootstrap=False, criterion=absolute_error, max_depth=100, max_features=sqrt, min_samples_leaf=12, min_samples_split=30, n_estimators=200; total time=   0.1s\n",
      "[CV] END bootstrap=False, criterion=absolute_error, max_depth=100, max_features=sqrt, min_samples_leaf=12, min_samples_split=30, n_estimators=200; total time=   0.1s\n",
      "[CV] END bootstrap=False, criterion=absolute_error, max_depth=100, max_features=sqrt, min_samples_leaf=12, min_samples_split=30, n_estimators=200; total time=   0.1s\n",
      "[CV] END bootstrap=True, criterion=absolute_error, max_depth=70, max_features=None, min_samples_leaf=12, min_samples_split=10, n_estimators=100; total time=   0.0s\n",
      "[CV] END bootstrap=True, criterion=absolute_error, max_depth=70, max_features=None, min_samples_leaf=12, min_samples_split=10, n_estimators=100; total time=   0.0s\n",
      "[CV] END bootstrap=True, criterion=absolute_error, max_depth=70, max_features=None, min_samples_leaf=12, min_samples_split=10, n_estimators=100; total time=   0.0s\n",
      "[CV] END bootstrap=False, criterion=absolute_error, max_depth=20, max_features=None, min_samples_leaf=14, min_samples_split=2, n_estimators=250; total time=   0.1s\n",
      "[CV] END bootstrap=False, criterion=absolute_error, max_depth=20, max_features=None, min_samples_leaf=14, min_samples_split=2, n_estimators=250; total time=   0.1s\n",
      "[CV] END bootstrap=False, criterion=absolute_error, max_depth=20, max_features=None, min_samples_leaf=14, min_samples_split=2, n_estimators=250; total time=   0.1s\n",
      "[CV] END bootstrap=False, criterion=poisson, max_depth=40, max_features=log2, min_samples_leaf=7, min_samples_split=20, n_estimators=100; total time=   0.2s\n",
      "[CV] END bootstrap=False, criterion=poisson, max_depth=40, max_features=log2, min_samples_leaf=7, min_samples_split=20, n_estimators=100; total time=   0.2s\n",
      "[CV] END bootstrap=False, criterion=poisson, max_depth=40, max_features=log2, min_samples_leaf=7, min_samples_split=20, n_estimators=100; total time=   0.2s\n",
      "[CV] END bootstrap=True, criterion=absolute_error, max_depth=50, max_features=log2, min_samples_leaf=12, min_samples_split=2, n_estimators=450; total time=   0.1s\n",
      "[CV] END bootstrap=True, criterion=absolute_error, max_depth=50, max_features=log2, min_samples_leaf=12, min_samples_split=2, n_estimators=450; total time=   0.1s\n",
      "[CV] END bootstrap=True, criterion=absolute_error, max_depth=50, max_features=log2, min_samples_leaf=12, min_samples_split=2, n_estimators=450; total time=   0.1s\n",
      "[CV] END bootstrap=False, criterion=absolute_error, max_depth=90, max_features=log2, min_samples_leaf=14, min_samples_split=10, n_estimators=250; total time=   0.1s\n",
      "[CV] END bootstrap=False, criterion=absolute_error, max_depth=90, max_features=log2, min_samples_leaf=14, min_samples_split=10, n_estimators=250; total time=   0.1s\n",
      "[CV] END bootstrap=False, criterion=absolute_error, max_depth=90, max_features=log2, min_samples_leaf=14, min_samples_split=10, n_estimators=250; total time=   0.1s\n",
      "[CV] END bootstrap=True, criterion=absolute_error, max_depth=10, max_features=None, min_samples_leaf=16, min_samples_split=5, n_estimators=450; total time=   0.1s\n",
      "[CV] END bootstrap=True, criterion=absolute_error, max_depth=10, max_features=None, min_samples_leaf=16, min_samples_split=5, n_estimators=450; total time=   0.1s\n",
      "[CV] END bootstrap=True, criterion=absolute_error, max_depth=10, max_features=None, min_samples_leaf=16, min_samples_split=5, n_estimators=450; total time=   0.1s\n",
      "[CV] END bootstrap=True, criterion=squared_error, max_depth=20, max_features=None, min_samples_leaf=7, min_samples_split=40, n_estimators=150; total time=   0.1s\n",
      "[CV] END bootstrap=True, criterion=squared_error, max_depth=20, max_features=None, min_samples_leaf=7, min_samples_split=40, n_estimators=150; total time=   0.1s\n",
      "[CV] END bootstrap=True, criterion=squared_error, max_depth=20, max_features=None, min_samples_leaf=7, min_samples_split=40, n_estimators=150; total time=   0.0s\n",
      "[CV] END bootstrap=False, criterion=squared_error, max_depth=50, max_features=auto, min_samples_leaf=30, min_samples_split=10, n_estimators=150; total time=   0.0s\n",
      "[CV] END bootstrap=False, criterion=squared_error, max_depth=50, max_features=auto, min_samples_leaf=30, min_samples_split=10, n_estimators=150; total time=   0.0s\n",
      "[CV] END bootstrap=False, criterion=squared_error, max_depth=50, max_features=auto, min_samples_leaf=30, min_samples_split=10, n_estimators=150; total time=   0.0s\n",
      "[CV] END bootstrap=False, criterion=squared_error, max_depth=90, max_features=auto, min_samples_leaf=2, min_samples_split=2, n_estimators=400; total time=   0.1s\n",
      "[CV] END bootstrap=False, criterion=squared_error, max_depth=90, max_features=auto, min_samples_leaf=2, min_samples_split=2, n_estimators=400; total time=   0.1s\n",
      "[CV] END bootstrap=False, criterion=squared_error, max_depth=90, max_features=auto, min_samples_leaf=2, min_samples_split=2, n_estimators=400; total time=   0.1s\n",
      "[CV] END bootstrap=False, criterion=absolute_error, max_depth=90, max_features=log2, min_samples_leaf=30, min_samples_split=30, n_estimators=50; total time=   0.0s\n",
      "[CV] END bootstrap=False, criterion=absolute_error, max_depth=90, max_features=log2, min_samples_leaf=30, min_samples_split=30, n_estimators=50; total time=   0.0s\n",
      "[CV] END bootstrap=False, criterion=absolute_error, max_depth=90, max_features=log2, min_samples_leaf=30, min_samples_split=30, n_estimators=50; total time=   0.0s\n",
      "[CV] END bootstrap=True, criterion=poisson, max_depth=10, max_features=None, min_samples_leaf=20, min_samples_split=10, n_estimators=400; total time=   5.1s\n",
      "[CV] END bootstrap=True, criterion=poisson, max_depth=10, max_features=None, min_samples_leaf=20, min_samples_split=10, n_estimators=400; total time=   5.1s\n",
      "[CV] END bootstrap=True, criterion=poisson, max_depth=10, max_features=None, min_samples_leaf=20, min_samples_split=10, n_estimators=400; total time=   4.9s\n",
      "[CV] END bootstrap=False, criterion=squared_error, max_depth=100, max_features=auto, min_samples_leaf=1, min_samples_split=30, n_estimators=400; total time=   0.1s\n",
      "[CV] END bootstrap=False, criterion=squared_error, max_depth=100, max_features=auto, min_samples_leaf=1, min_samples_split=30, n_estimators=400; total time=   0.1s\n",
      "[CV] END bootstrap=False, criterion=squared_error, max_depth=100, max_features=auto, min_samples_leaf=1, min_samples_split=30, n_estimators=400; total time=   0.1s\n",
      "[CV] END bootstrap=False, criterion=squared_error, max_depth=30, max_features=log2, min_samples_leaf=16, min_samples_split=10, n_estimators=350; total time=   0.1s\n",
      "[CV] END bootstrap=False, criterion=squared_error, max_depth=30, max_features=log2, min_samples_leaf=16, min_samples_split=10, n_estimators=350; total time=   0.1s\n",
      "[CV] END bootstrap=False, criterion=squared_error, max_depth=30, max_features=log2, min_samples_leaf=16, min_samples_split=10, n_estimators=350; total time=   0.1s\n",
      "[CV] END bootstrap=False, criterion=squared_error, max_depth=90, max_features=None, min_samples_leaf=16, min_samples_split=2, n_estimators=300; total time=   0.1s\n",
      "[CV] END bootstrap=False, criterion=squared_error, max_depth=90, max_features=None, min_samples_leaf=16, min_samples_split=2, n_estimators=300; total time=   0.1s\n",
      "[CV] END bootstrap=False, criterion=squared_error, max_depth=90, max_features=None, min_samples_leaf=16, min_samples_split=2, n_estimators=300; total time=   0.1s\n",
      "[CV] END bootstrap=True, criterion=absolute_error, max_depth=90, max_features=sqrt, min_samples_leaf=1, min_samples_split=5, n_estimators=350; total time=   0.1s\n",
      "[CV] END bootstrap=True, criterion=absolute_error, max_depth=90, max_features=sqrt, min_samples_leaf=1, min_samples_split=5, n_estimators=350; total time=   0.1s\n",
      "[CV] END bootstrap=True, criterion=absolute_error, max_depth=90, max_features=sqrt, min_samples_leaf=1, min_samples_split=5, n_estimators=350; total time=   0.1s\n",
      "[CV] END bootstrap=True, criterion=squared_error, max_depth=70, max_features=None, min_samples_leaf=12, min_samples_split=2, n_estimators=50; total time=   0.0s\n",
      "[CV] END bootstrap=True, criterion=squared_error, max_depth=70, max_features=None, min_samples_leaf=12, min_samples_split=2, n_estimators=50; total time=   0.0s\n",
      "[CV] END bootstrap=True, criterion=squared_error, max_depth=70, max_features=None, min_samples_leaf=12, min_samples_split=2, n_estimators=50; total time=   0.0s\n",
      "[CV] END bootstrap=False, criterion=squared_error, max_depth=100, max_features=log2, min_samples_leaf=30, min_samples_split=10, n_estimators=450; total time=   0.1s\n",
      "[CV] END bootstrap=False, criterion=squared_error, max_depth=100, max_features=log2, min_samples_leaf=30, min_samples_split=10, n_estimators=450; total time=   0.1s\n",
      "[CV] END bootstrap=False, criterion=squared_error, max_depth=100, max_features=log2, min_samples_leaf=30, min_samples_split=10, n_estimators=450; total time=   0.1s\n",
      "[CV] END bootstrap=True, criterion=squared_error, max_depth=30, max_features=sqrt, min_samples_leaf=1, min_samples_split=2, n_estimators=150; total time=   0.0s\n",
      "[CV] END bootstrap=True, criterion=squared_error, max_depth=30, max_features=sqrt, min_samples_leaf=1, min_samples_split=2, n_estimators=150; total time=   0.0s\n",
      "[CV] END bootstrap=True, criterion=squared_error, max_depth=30, max_features=sqrt, min_samples_leaf=1, min_samples_split=2, n_estimators=150; total time=   0.0s\n",
      "[CV] END bootstrap=True, criterion=poisson, max_depth=50, max_features=auto, min_samples_leaf=7, min_samples_split=10, n_estimators=450; total time=  14.2s\n",
      "[CV] END bootstrap=True, criterion=poisson, max_depth=50, max_features=auto, min_samples_leaf=7, min_samples_split=10, n_estimators=450; total time=  14.1s\n",
      "[CV] END bootstrap=True, criterion=poisson, max_depth=50, max_features=auto, min_samples_leaf=7, min_samples_split=10, n_estimators=450; total time=  14.7s\n",
      "[CV] END bootstrap=False, criterion=poisson, max_depth=60, max_features=None, min_samples_leaf=20, min_samples_split=40, n_estimators=200; total time=   7.6s\n",
      "[CV] END bootstrap=False, criterion=poisson, max_depth=60, max_features=None, min_samples_leaf=20, min_samples_split=40, n_estimators=200; total time=   7.4s\n",
      "[CV] END bootstrap=False, criterion=poisson, max_depth=60, max_features=None, min_samples_leaf=20, min_samples_split=40, n_estimators=200; total time=   7.7s\n",
      "[CV] END bootstrap=False, criterion=absolute_error, max_depth=70, max_features=sqrt, min_samples_leaf=7, min_samples_split=5, n_estimators=100; total time=   0.0s\n",
      "[CV] END bootstrap=False, criterion=absolute_error, max_depth=70, max_features=sqrt, min_samples_leaf=7, min_samples_split=5, n_estimators=100; total time=   0.0s\n",
      "[CV] END bootstrap=False, criterion=absolute_error, max_depth=70, max_features=sqrt, min_samples_leaf=7, min_samples_split=5, n_estimators=100; total time=   0.0s\n",
      "[CV] END bootstrap=False, criterion=poisson, max_depth=10, max_features=None, min_samples_leaf=1, min_samples_split=40, n_estimators=250; total time=   5.2s\n",
      "[CV] END bootstrap=False, criterion=poisson, max_depth=10, max_features=None, min_samples_leaf=1, min_samples_split=40, n_estimators=250; total time=   5.2s\n",
      "[CV] END bootstrap=False, criterion=poisson, max_depth=10, max_features=None, min_samples_leaf=1, min_samples_split=40, n_estimators=250; total time=   5.2s\n",
      "[CV] END bootstrap=True, criterion=squared_error, max_depth=70, max_features=auto, min_samples_leaf=14, min_samples_split=30, n_estimators=400; total time=   0.1s\n",
      "[CV] END bootstrap=True, criterion=squared_error, max_depth=70, max_features=auto, min_samples_leaf=14, min_samples_split=30, n_estimators=400; total time=   0.1s\n",
      "[CV] END bootstrap=True, criterion=squared_error, max_depth=70, max_features=auto, min_samples_leaf=14, min_samples_split=30, n_estimators=400; total time=   0.1s\n",
      "[CV] END bootstrap=True, criterion=squared_error, max_depth=60, max_features=auto, min_samples_leaf=7, min_samples_split=30, n_estimators=450; total time=   0.1s\n",
      "[CV] END bootstrap=True, criterion=squared_error, max_depth=60, max_features=auto, min_samples_leaf=7, min_samples_split=30, n_estimators=450; total time=   0.1s\n",
      "[CV] END bootstrap=True, criterion=squared_error, max_depth=60, max_features=auto, min_samples_leaf=7, min_samples_split=30, n_estimators=450; total time=   0.1s\n",
      "[CV] END bootstrap=False, criterion=absolute_error, max_depth=30, max_features=log2, min_samples_leaf=2, min_samples_split=30, n_estimators=400; total time=   0.1s\n",
      "[CV] END bootstrap=False, criterion=absolute_error, max_depth=30, max_features=log2, min_samples_leaf=2, min_samples_split=30, n_estimators=400; total time=   0.1s\n",
      "[CV] END bootstrap=False, criterion=absolute_error, max_depth=30, max_features=log2, min_samples_leaf=2, min_samples_split=30, n_estimators=400; total time=   0.1s\n",
      "[CV] END bootstrap=True, criterion=poisson, max_depth=50, max_features=log2, min_samples_leaf=14, min_samples_split=5, n_estimators=450; total time=   0.6s\n",
      "[CV] END bootstrap=True, criterion=poisson, max_depth=50, max_features=log2, min_samples_leaf=14, min_samples_split=5, n_estimators=450; total time=   0.6s\n",
      "[CV] END bootstrap=True, criterion=poisson, max_depth=50, max_features=log2, min_samples_leaf=14, min_samples_split=5, n_estimators=450; total time=   0.6s\n",
      "[CV] END bootstrap=False, criterion=absolute_error, max_depth=50, max_features=sqrt, min_samples_leaf=2, min_samples_split=20, n_estimators=400; total time=   0.1s\n",
      "[CV] END bootstrap=False, criterion=absolute_error, max_depth=50, max_features=sqrt, min_samples_leaf=2, min_samples_split=20, n_estimators=400; total time=   0.1s\n",
      "[CV] END bootstrap=False, criterion=absolute_error, max_depth=50, max_features=sqrt, min_samples_leaf=2, min_samples_split=20, n_estimators=400; total time=   0.1s\n",
      "[CV] END bootstrap=True, criterion=absolute_error, max_depth=40, max_features=log2, min_samples_leaf=7, min_samples_split=20, n_estimators=150; total time=   0.0s\n",
      "[CV] END bootstrap=True, criterion=absolute_error, max_depth=40, max_features=log2, min_samples_leaf=7, min_samples_split=20, n_estimators=150; total time=   0.0s\n",
      "[CV] END bootstrap=True, criterion=absolute_error, max_depth=40, max_features=log2, min_samples_leaf=7, min_samples_split=20, n_estimators=150; total time=   0.0s\n",
      "[CV] END bootstrap=False, criterion=squared_error, max_depth=100, max_features=sqrt, min_samples_leaf=20, min_samples_split=2, n_estimators=50; total time=   0.0s\n",
      "[CV] END bootstrap=False, criterion=squared_error, max_depth=100, max_features=sqrt, min_samples_leaf=20, min_samples_split=2, n_estimators=50; total time=   0.0s\n",
      "[CV] END bootstrap=False, criterion=squared_error, max_depth=100, max_features=sqrt, min_samples_leaf=20, min_samples_split=2, n_estimators=50; total time=   0.0s\n",
      "[CV] END bootstrap=True, criterion=absolute_error, max_depth=40, max_features=None, min_samples_leaf=7, min_samples_split=40, n_estimators=150; total time=   0.0s\n",
      "[CV] END bootstrap=True, criterion=absolute_error, max_depth=40, max_features=None, min_samples_leaf=7, min_samples_split=40, n_estimators=150; total time=   0.0s\n",
      "[CV] END bootstrap=True, criterion=absolute_error, max_depth=40, max_features=None, min_samples_leaf=7, min_samples_split=40, n_estimators=150; total time=   0.0s\n",
      "[CV] END bootstrap=True, criterion=poisson, max_depth=90, max_features=auto, min_samples_leaf=12, min_samples_split=5, n_estimators=50; total time=   1.2s\n",
      "[CV] END bootstrap=True, criterion=poisson, max_depth=90, max_features=auto, min_samples_leaf=12, min_samples_split=5, n_estimators=50; total time=   1.2s\n",
      "[CV] END bootstrap=True, criterion=poisson, max_depth=90, max_features=auto, min_samples_leaf=12, min_samples_split=5, n_estimators=50; total time=   1.2s\n",
      "[CV] END bootstrap=True, criterion=squared_error, max_depth=100, max_features=log2, min_samples_leaf=16, min_samples_split=30, n_estimators=300; total time=   0.1s\n",
      "[CV] END bootstrap=True, criterion=squared_error, max_depth=100, max_features=log2, min_samples_leaf=16, min_samples_split=30, n_estimators=300; total time=   0.1s\n",
      "[CV] END bootstrap=True, criterion=squared_error, max_depth=100, max_features=log2, min_samples_leaf=16, min_samples_split=30, n_estimators=300; total time=   0.1s\n",
      "[CV] END bootstrap=False, criterion=absolute_error, max_depth=70, max_features=sqrt, min_samples_leaf=7, min_samples_split=40, n_estimators=250; total time=   0.1s\n",
      "[CV] END bootstrap=False, criterion=absolute_error, max_depth=70, max_features=sqrt, min_samples_leaf=7, min_samples_split=40, n_estimators=250; total time=   0.1s\n",
      "[CV] END bootstrap=False, criterion=absolute_error, max_depth=70, max_features=sqrt, min_samples_leaf=7, min_samples_split=40, n_estimators=250; total time=   0.1s\n",
      "[CV] END bootstrap=True, criterion=poisson, max_depth=10, max_features=log2, min_samples_leaf=2, min_samples_split=5, n_estimators=100; total time=   0.2s\n",
      "[CV] END bootstrap=True, criterion=poisson, max_depth=10, max_features=log2, min_samples_leaf=2, min_samples_split=5, n_estimators=100; total time=   0.2s\n",
      "[CV] END bootstrap=True, criterion=poisson, max_depth=10, max_features=log2, min_samples_leaf=2, min_samples_split=5, n_estimators=100; total time=   0.2s\n",
      "[CV] END bootstrap=False, criterion=poisson, max_depth=40, max_features=sqrt, min_samples_leaf=1, min_samples_split=40, n_estimators=350; total time=   2.3s\n",
      "[CV] END bootstrap=False, criterion=poisson, max_depth=40, max_features=sqrt, min_samples_leaf=1, min_samples_split=40, n_estimators=350; total time=   2.2s\n",
      "[CV] END bootstrap=False, criterion=poisson, max_depth=40, max_features=sqrt, min_samples_leaf=1, min_samples_split=40, n_estimators=350; total time=   2.3s\n",
      "[CV] END bootstrap=False, criterion=squared_error, max_depth=90, max_features=log2, min_samples_leaf=7, min_samples_split=40, n_estimators=450; total time=   0.1s\n",
      "[CV] END bootstrap=False, criterion=squared_error, max_depth=90, max_features=log2, min_samples_leaf=7, min_samples_split=40, n_estimators=450; total time=   0.1s\n",
      "[CV] END bootstrap=False, criterion=squared_error, max_depth=90, max_features=log2, min_samples_leaf=7, min_samples_split=40, n_estimators=450; total time=   0.1s\n",
      "[CV] END bootstrap=False, criterion=absolute_error, max_depth=10, max_features=auto, min_samples_leaf=20, min_samples_split=20, n_estimators=450; total time=   0.1s\n",
      "[CV] END bootstrap=False, criterion=absolute_error, max_depth=10, max_features=auto, min_samples_leaf=20, min_samples_split=20, n_estimators=450; total time=   0.1s\n",
      "[CV] END bootstrap=False, criterion=absolute_error, max_depth=10, max_features=auto, min_samples_leaf=20, min_samples_split=20, n_estimators=450; total time=   0.1s\n",
      "[CV] END bootstrap=False, criterion=poisson, max_depth=20, max_features=log2, min_samples_leaf=1, min_samples_split=40, n_estimators=350; total time=   0.9s\n",
      "[CV] END bootstrap=False, criterion=poisson, max_depth=20, max_features=log2, min_samples_leaf=1, min_samples_split=40, n_estimators=350; total time=   1.0s\n",
      "[CV] END bootstrap=False, criterion=poisson, max_depth=20, max_features=log2, min_samples_leaf=1, min_samples_split=40, n_estimators=350; total time=   1.0s\n",
      "[CV] END bootstrap=True, criterion=absolute_error, max_depth=20, max_features=sqrt, min_samples_leaf=1, min_samples_split=5, n_estimators=450; total time=   0.1s\n",
      "[CV] END bootstrap=True, criterion=absolute_error, max_depth=20, max_features=sqrt, min_samples_leaf=1, min_samples_split=5, n_estimators=450; total time=   0.1s\n",
      "[CV] END bootstrap=True, criterion=absolute_error, max_depth=20, max_features=sqrt, min_samples_leaf=1, min_samples_split=5, n_estimators=450; total time=   0.1s\n",
      "[CV] END bootstrap=False, criterion=squared_error, max_depth=90, max_features=None, min_samples_leaf=1, min_samples_split=20, n_estimators=150; total time=   0.0s\n",
      "[CV] END bootstrap=False, criterion=squared_error, max_depth=90, max_features=None, min_samples_leaf=1, min_samples_split=20, n_estimators=150; total time=   0.0s\n",
      "[CV] END bootstrap=False, criterion=squared_error, max_depth=90, max_features=None, min_samples_leaf=1, min_samples_split=20, n_estimators=150; total time=   0.0s\n",
      "[CV] END bootstrap=False, criterion=absolute_error, max_depth=50, max_features=None, min_samples_leaf=16, min_samples_split=10, n_estimators=300; total time=   0.1s\n",
      "[CV] END bootstrap=False, criterion=absolute_error, max_depth=50, max_features=None, min_samples_leaf=16, min_samples_split=10, n_estimators=300; total time=   0.1s\n",
      "[CV] END bootstrap=False, criterion=absolute_error, max_depth=50, max_features=None, min_samples_leaf=16, min_samples_split=10, n_estimators=300; total time=   0.1s\n",
      "[CV] END bootstrap=False, criterion=absolute_error, max_depth=60, max_features=None, min_samples_leaf=20, min_samples_split=2, n_estimators=300; total time=   0.1s\n",
      "[CV] END bootstrap=False, criterion=absolute_error, max_depth=60, max_features=None, min_samples_leaf=20, min_samples_split=2, n_estimators=300; total time=   0.1s\n",
      "[CV] END bootstrap=False, criterion=absolute_error, max_depth=60, max_features=None, min_samples_leaf=20, min_samples_split=2, n_estimators=300; total time=   0.1s\n",
      "[CV] END bootstrap=False, criterion=squared_error, max_depth=10, max_features=None, min_samples_leaf=16, min_samples_split=10, n_estimators=200; total time=   0.1s\n",
      "[CV] END bootstrap=False, criterion=squared_error, max_depth=10, max_features=None, min_samples_leaf=16, min_samples_split=10, n_estimators=200; total time=   0.1s\n",
      "[CV] END bootstrap=False, criterion=squared_error, max_depth=10, max_features=None, min_samples_leaf=16, min_samples_split=10, n_estimators=200; total time=   0.1s\n",
      "[CV] END bootstrap=True, criterion=poisson, max_depth=40, max_features=None, min_samples_leaf=7, min_samples_split=30, n_estimators=300; total time=   8.9s\n",
      "[CV] END bootstrap=True, criterion=poisson, max_depth=40, max_features=None, min_samples_leaf=7, min_samples_split=30, n_estimators=300; total time=   9.1s\n",
      "[CV] END bootstrap=True, criterion=poisson, max_depth=40, max_features=None, min_samples_leaf=7, min_samples_split=30, n_estimators=300; total time=   9.9s\n",
      "[CV] END bootstrap=True, criterion=squared_error, max_depth=60, max_features=None, min_samples_leaf=12, min_samples_split=10, n_estimators=450; total time=   0.1s\n",
      "[CV] END bootstrap=True, criterion=squared_error, max_depth=60, max_features=None, min_samples_leaf=12, min_samples_split=10, n_estimators=450; total time=   0.1s\n",
      "[CV] END bootstrap=True, criterion=squared_error, max_depth=60, max_features=None, min_samples_leaf=12, min_samples_split=10, n_estimators=450; total time=   0.1s\n",
      "[CV] END bootstrap=True, criterion=poisson, max_depth=70, max_features=sqrt, min_samples_leaf=30, min_samples_split=10, n_estimators=150; total time=   0.3s\n",
      "[CV] END bootstrap=True, criterion=poisson, max_depth=70, max_features=sqrt, min_samples_leaf=30, min_samples_split=10, n_estimators=150; total time=   0.3s\n",
      "[CV] END bootstrap=True, criterion=poisson, max_depth=70, max_features=sqrt, min_samples_leaf=30, min_samples_split=10, n_estimators=150; total time=   0.3s\n",
      "[CV] END bootstrap=False, criterion=absolute_error, max_depth=20, max_features=log2, min_samples_leaf=14, min_samples_split=40, n_estimators=250; total time=   0.1s\n",
      "[CV] END bootstrap=False, criterion=absolute_error, max_depth=20, max_features=log2, min_samples_leaf=14, min_samples_split=40, n_estimators=250; total time=   0.1s\n",
      "[CV] END bootstrap=False, criterion=absolute_error, max_depth=20, max_features=log2, min_samples_leaf=14, min_samples_split=40, n_estimators=250; total time=   0.1s\n",
      "[CV] END bootstrap=False, criterion=absolute_error, max_depth=20, max_features=auto, min_samples_leaf=20, min_samples_split=30, n_estimators=200; total time=   0.1s\n",
      "[CV] END bootstrap=False, criterion=absolute_error, max_depth=20, max_features=auto, min_samples_leaf=20, min_samples_split=30, n_estimators=200; total time=   0.1s\n",
      "[CV] END bootstrap=False, criterion=absolute_error, max_depth=20, max_features=auto, min_samples_leaf=20, min_samples_split=30, n_estimators=200; total time=   0.1s\n",
      "[CV] END bootstrap=False, criterion=squared_error, max_depth=90, max_features=auto, min_samples_leaf=1, min_samples_split=20, n_estimators=350; total time=   0.1s\n",
      "[CV] END bootstrap=False, criterion=squared_error, max_depth=90, max_features=auto, min_samples_leaf=1, min_samples_split=20, n_estimators=350; total time=   0.1s\n",
      "[CV] END bootstrap=False, criterion=squared_error, max_depth=90, max_features=auto, min_samples_leaf=1, min_samples_split=20, n_estimators=350; total time=   0.1s\n",
      "[CV] END bootstrap=True, criterion=poisson, max_depth=20, max_features=sqrt, min_samples_leaf=20, min_samples_split=10, n_estimators=200; total time=   0.4s\n",
      "[CV] END bootstrap=True, criterion=poisson, max_depth=20, max_features=sqrt, min_samples_leaf=20, min_samples_split=10, n_estimators=200; total time=   0.4s\n",
      "[CV] END bootstrap=True, criterion=poisson, max_depth=20, max_features=sqrt, min_samples_leaf=20, min_samples_split=10, n_estimators=200; total time=   0.4s\n",
      "[CV] END bootstrap=False, criterion=poisson, max_depth=40, max_features=sqrt, min_samples_leaf=2, min_samples_split=10, n_estimators=300; total time=   1.9s\n",
      "[CV] END bootstrap=False, criterion=poisson, max_depth=40, max_features=sqrt, min_samples_leaf=2, min_samples_split=10, n_estimators=300; total time=   1.9s\n",
      "[CV] END bootstrap=False, criterion=poisson, max_depth=40, max_features=sqrt, min_samples_leaf=2, min_samples_split=10, n_estimators=300; total time=   1.9s\n",
      "[CV] END bootstrap=False, criterion=poisson, max_depth=80, max_features=sqrt, min_samples_leaf=20, min_samples_split=40, n_estimators=150; total time=   0.3s\n",
      "[CV] END bootstrap=False, criterion=poisson, max_depth=80, max_features=sqrt, min_samples_leaf=20, min_samples_split=40, n_estimators=150; total time=   0.3s\n",
      "[CV] END bootstrap=False, criterion=poisson, max_depth=80, max_features=sqrt, min_samples_leaf=20, min_samples_split=40, n_estimators=150; total time=   0.3s\n",
      "[CV] END bootstrap=True, criterion=absolute_error, max_depth=90, max_features=log2, min_samples_leaf=12, min_samples_split=30, n_estimators=450; total time=   0.1s\n",
      "[CV] END bootstrap=True, criterion=absolute_error, max_depth=90, max_features=log2, min_samples_leaf=12, min_samples_split=30, n_estimators=450; total time=   0.1s\n",
      "[CV] END bootstrap=True, criterion=absolute_error, max_depth=90, max_features=log2, min_samples_leaf=12, min_samples_split=30, n_estimators=450; total time=   0.1s\n",
      "[CV] END bootstrap=True, criterion=squared_error, max_depth=70, max_features=None, min_samples_leaf=16, min_samples_split=20, n_estimators=300; total time=   0.1s\n",
      "[CV] END bootstrap=True, criterion=squared_error, max_depth=70, max_features=None, min_samples_leaf=16, min_samples_split=20, n_estimators=300; total time=   0.1s\n",
      "[CV] END bootstrap=True, criterion=squared_error, max_depth=70, max_features=None, min_samples_leaf=16, min_samples_split=20, n_estimators=300; total time=   0.1s\n",
      "[CV] END bootstrap=False, criterion=poisson, max_depth=50, max_features=log2, min_samples_leaf=2, min_samples_split=2, n_estimators=100; total time=   0.5s\n",
      "[CV] END bootstrap=False, criterion=poisson, max_depth=50, max_features=log2, min_samples_leaf=2, min_samples_split=2, n_estimators=100; total time=   0.5s\n",
      "[CV] END bootstrap=False, criterion=poisson, max_depth=50, max_features=log2, min_samples_leaf=2, min_samples_split=2, n_estimators=100; total time=   0.5s\n",
      "[CV] END bootstrap=True, criterion=poisson, max_depth=40, max_features=sqrt, min_samples_leaf=14, min_samples_split=2, n_estimators=300; total time=   0.7s\n",
      "[CV] END bootstrap=True, criterion=poisson, max_depth=40, max_features=sqrt, min_samples_leaf=14, min_samples_split=2, n_estimators=300; total time=   0.7s\n",
      "[CV] END bootstrap=True, criterion=poisson, max_depth=40, max_features=sqrt, min_samples_leaf=14, min_samples_split=2, n_estimators=300; total time=   0.6s\n",
      "[CV] END bootstrap=False, criterion=poisson, max_depth=30, max_features=log2, min_samples_leaf=14, min_samples_split=10, n_estimators=100; total time=   0.2s\n",
      "[CV] END bootstrap=False, criterion=poisson, max_depth=30, max_features=log2, min_samples_leaf=14, min_samples_split=10, n_estimators=100; total time=   0.2s\n",
      "[CV] END bootstrap=False, criterion=poisson, max_depth=30, max_features=log2, min_samples_leaf=14, min_samples_split=10, n_estimators=100; total time=   0.2s\n",
      "[CV] END bootstrap=True, criterion=squared_error, max_depth=10, max_features=None, min_samples_leaf=7, min_samples_split=30, n_estimators=450; total time=   0.1s\n",
      "[CV] END bootstrap=True, criterion=squared_error, max_depth=10, max_features=None, min_samples_leaf=7, min_samples_split=30, n_estimators=450; total time=   0.1s\n",
      "[CV] END bootstrap=True, criterion=squared_error, max_depth=10, max_features=None, min_samples_leaf=7, min_samples_split=30, n_estimators=450; total time=   0.1s\n",
      "[CV] END bootstrap=False, criterion=poisson, max_depth=20, max_features=log2, min_samples_leaf=20, min_samples_split=30, n_estimators=300; total time=   0.4s\n",
      "[CV] END bootstrap=False, criterion=poisson, max_depth=20, max_features=log2, min_samples_leaf=20, min_samples_split=30, n_estimators=300; total time=   0.4s\n",
      "[CV] END bootstrap=False, criterion=poisson, max_depth=20, max_features=log2, min_samples_leaf=20, min_samples_split=30, n_estimators=300; total time=   0.4s\n",
      "[CV] END bootstrap=False, criterion=squared_error, max_depth=30, max_features=auto, min_samples_leaf=16, min_samples_split=10, n_estimators=400; total time=   0.1s\n",
      "[CV] END bootstrap=False, criterion=squared_error, max_depth=30, max_features=auto, min_samples_leaf=16, min_samples_split=10, n_estimators=400; total time=   0.1s\n",
      "[CV] END bootstrap=False, criterion=squared_error, max_depth=30, max_features=auto, min_samples_leaf=16, min_samples_split=10, n_estimators=400; total time=   0.1s\n",
      "[CV] END bootstrap=False, criterion=poisson, max_depth=20, max_features=log2, min_samples_leaf=30, min_samples_split=5, n_estimators=100; total time=   0.1s\n",
      "[CV] END bootstrap=False, criterion=poisson, max_depth=20, max_features=log2, min_samples_leaf=30, min_samples_split=5, n_estimators=100; total time=   0.1s\n",
      "[CV] END bootstrap=False, criterion=poisson, max_depth=20, max_features=log2, min_samples_leaf=30, min_samples_split=5, n_estimators=100; total time=   0.1s\n",
      "[CV] END bootstrap=True, criterion=absolute_error, max_depth=40, max_features=sqrt, min_samples_leaf=20, min_samples_split=20, n_estimators=50; total time=   0.0s\n",
      "[CV] END bootstrap=True, criterion=absolute_error, max_depth=40, max_features=sqrt, min_samples_leaf=20, min_samples_split=20, n_estimators=50; total time=   0.0s\n",
      "[CV] END bootstrap=True, criterion=absolute_error, max_depth=40, max_features=sqrt, min_samples_leaf=20, min_samples_split=20, n_estimators=50; total time=   0.0s\n",
      "[CV] END bootstrap=True, criterion=absolute_error, max_depth=50, max_features=auto, min_samples_leaf=7, min_samples_split=2, n_estimators=50; total time=   0.0s\n",
      "[CV] END bootstrap=True, criterion=absolute_error, max_depth=50, max_features=auto, min_samples_leaf=7, min_samples_split=2, n_estimators=50; total time=   0.0s\n",
      "[CV] END bootstrap=True, criterion=absolute_error, max_depth=50, max_features=auto, min_samples_leaf=7, min_samples_split=2, n_estimators=50; total time=   0.0s\n",
      "[CV] END bootstrap=False, criterion=absolute_error, max_depth=30, max_features=log2, min_samples_leaf=12, min_samples_split=20, n_estimators=250; total time=   0.1s\n",
      "[CV] END bootstrap=False, criterion=absolute_error, max_depth=30, max_features=log2, min_samples_leaf=12, min_samples_split=20, n_estimators=250; total time=   0.1s\n",
      "[CV] END bootstrap=False, criterion=absolute_error, max_depth=30, max_features=log2, min_samples_leaf=12, min_samples_split=20, n_estimators=250; total time=   0.1s\n",
      "[CV] END bootstrap=False, criterion=absolute_error, max_depth=80, max_features=log2, min_samples_leaf=16, min_samples_split=5, n_estimators=400; total time=   0.1s\n",
      "[CV] END bootstrap=False, criterion=absolute_error, max_depth=80, max_features=log2, min_samples_leaf=16, min_samples_split=5, n_estimators=400; total time=   0.1s\n",
      "[CV] END bootstrap=False, criterion=absolute_error, max_depth=80, max_features=log2, min_samples_leaf=16, min_samples_split=5, n_estimators=400; total time=   0.1s\n",
      "[CV] END bootstrap=True, criterion=squared_error, max_depth=60, max_features=sqrt, min_samples_leaf=12, min_samples_split=20, n_estimators=400; total time=   0.1s\n",
      "[CV] END bootstrap=True, criterion=squared_error, max_depth=60, max_features=sqrt, min_samples_leaf=12, min_samples_split=20, n_estimators=400; total time=   0.1s\n",
      "[CV] END bootstrap=True, criterion=squared_error, max_depth=60, max_features=sqrt, min_samples_leaf=12, min_samples_split=20, n_estimators=400; total time=   0.1s\n",
      "[CV] END bootstrap=False, criterion=poisson, max_depth=10, max_features=auto, min_samples_leaf=30, min_samples_split=20, n_estimators=150; total time=   2.9s\n",
      "[CV] END bootstrap=False, criterion=poisson, max_depth=10, max_features=auto, min_samples_leaf=30, min_samples_split=20, n_estimators=150; total time=   3.0s\n",
      "[CV] END bootstrap=False, criterion=poisson, max_depth=10, max_features=auto, min_samples_leaf=30, min_samples_split=20, n_estimators=150; total time=   3.2s\n",
      "[CV] END bootstrap=True, criterion=squared_error, max_depth=80, max_features=auto, min_samples_leaf=2, min_samples_split=20, n_estimators=450; total time=   0.1s\n",
      "[CV] END bootstrap=True, criterion=squared_error, max_depth=80, max_features=auto, min_samples_leaf=2, min_samples_split=20, n_estimators=450; total time=   0.1s\n",
      "[CV] END bootstrap=True, criterion=squared_error, max_depth=80, max_features=auto, min_samples_leaf=2, min_samples_split=20, n_estimators=450; total time=   0.1s\n",
      "[CV] END bootstrap=False, criterion=squared_error, max_depth=70, max_features=log2, min_samples_leaf=12, min_samples_split=30, n_estimators=150; total time=   0.0s\n",
      "[CV] END bootstrap=False, criterion=squared_error, max_depth=70, max_features=log2, min_samples_leaf=12, min_samples_split=30, n_estimators=150; total time=   0.0s\n",
      "[CV] END bootstrap=False, criterion=squared_error, max_depth=70, max_features=log2, min_samples_leaf=12, min_samples_split=30, n_estimators=150; total time=   0.0s\n",
      "[CV] END bootstrap=False, criterion=poisson, max_depth=10, max_features=auto, min_samples_leaf=30, min_samples_split=2, n_estimators=100; total time=   2.0s\n",
      "[CV] END bootstrap=False, criterion=poisson, max_depth=10, max_features=auto, min_samples_leaf=30, min_samples_split=2, n_estimators=100; total time=   2.0s\n",
      "[CV] END bootstrap=False, criterion=poisson, max_depth=10, max_features=auto, min_samples_leaf=30, min_samples_split=2, n_estimators=100; total time=   2.1s\n",
      "[CV] END bootstrap=True, criterion=poisson, max_depth=30, max_features=None, min_samples_leaf=14, min_samples_split=2, n_estimators=200; total time=   4.5s\n",
      "[CV] END bootstrap=True, criterion=poisson, max_depth=30, max_features=None, min_samples_leaf=14, min_samples_split=2, n_estimators=200; total time=   4.7s\n",
      "[CV] END bootstrap=True, criterion=poisson, max_depth=30, max_features=None, min_samples_leaf=14, min_samples_split=2, n_estimators=200; total time=   4.4s\n",
      "[CV] END bootstrap=True, criterion=squared_error, max_depth=50, max_features=log2, min_samples_leaf=20, min_samples_split=30, n_estimators=200; total time=   0.1s\n",
      "[CV] END bootstrap=True, criterion=squared_error, max_depth=50, max_features=log2, min_samples_leaf=20, min_samples_split=30, n_estimators=200; total time=   0.1s\n",
      "[CV] END bootstrap=True, criterion=squared_error, max_depth=50, max_features=log2, min_samples_leaf=20, min_samples_split=30, n_estimators=200; total time=   0.1s\n",
      "[CV] END bootstrap=True, criterion=poisson, max_depth=30, max_features=auto, min_samples_leaf=1, min_samples_split=20, n_estimators=100; total time=   3.6s\n",
      "[CV] END bootstrap=True, criterion=poisson, max_depth=30, max_features=auto, min_samples_leaf=1, min_samples_split=20, n_estimators=100; total time=   3.6s\n",
      "[CV] END bootstrap=True, criterion=poisson, max_depth=30, max_features=auto, min_samples_leaf=1, min_samples_split=20, n_estimators=100; total time=   3.8s\n",
      "[CV] END bootstrap=True, criterion=poisson, max_depth=100, max_features=None, min_samples_leaf=14, min_samples_split=10, n_estimators=250; total time=   5.7s\n",
      "[CV] END bootstrap=True, criterion=poisson, max_depth=100, max_features=None, min_samples_leaf=14, min_samples_split=10, n_estimators=250; total time=   5.6s\n",
      "[CV] END bootstrap=True, criterion=poisson, max_depth=100, max_features=None, min_samples_leaf=14, min_samples_split=10, n_estimators=250; total time=   5.6s\n",
      "[CV] END bootstrap=False, criterion=squared_error, max_depth=60, max_features=sqrt, min_samples_leaf=16, min_samples_split=40, n_estimators=100; total time=   0.0s\n",
      "[CV] END bootstrap=False, criterion=squared_error, max_depth=60, max_features=sqrt, min_samples_leaf=16, min_samples_split=40, n_estimators=100; total time=   0.0s\n",
      "[CV] END bootstrap=False, criterion=squared_error, max_depth=60, max_features=sqrt, min_samples_leaf=16, min_samples_split=40, n_estimators=100; total time=   0.0s\n",
      "[CV] END bootstrap=True, criterion=poisson, max_depth=90, max_features=sqrt, min_samples_leaf=12, min_samples_split=2, n_estimators=350; total time=   0.8s\n",
      "[CV] END bootstrap=True, criterion=poisson, max_depth=90, max_features=sqrt, min_samples_leaf=12, min_samples_split=2, n_estimators=350; total time=   0.8s\n",
      "[CV] END bootstrap=True, criterion=poisson, max_depth=90, max_features=sqrt, min_samples_leaf=12, min_samples_split=2, n_estimators=350; total time=   0.8s\n",
      "Best Score: -2783.394949503671\n",
      "Best Hyperparameters: {'n_estimators': 450, 'min_samples_split': 10, 'min_samples_leaf': 7, 'max_features': 'auto', 'max_depth': 50, 'criterion': 'poisson', 'bootstrap': True}\n",
      "CPU times: user 5min 42s, sys: 903 ms, total: 5min 42s\n",
      "Wall time: 5min 43s\n"
     ]
    }
   ],
   "source": [
    "%%time\n",
    "from sklearn.model_selection import RandomizedSearchCV\n",
    "\n",
    "model = RandomForestRegressor()\n",
    "\n",
    "rforest_grid = dict()\n",
    "rforest_grid['n_estimators'] = list(range(50, 500, 50))\n",
    "rforest_grid['criterion'] = ['squared_error', 'absolute_error', 'poisson']\n",
    "rforest_grid['max_depth'] = list(range(10, 110, 10))\n",
    "rforest_grid['min_samples_split'] = [2, 5, 10, 20, 30, 40]\n",
    "rforest_grid['min_samples_leaf'] = [1, 2, 7, 12, 14, 16 ,20, 30]\n",
    "rforest_grid['max_features'] = ['auto', 'sqrt', None, 'log2']\n",
    "rforest_grid['bootstrap'] = [True, False]\n",
    "\n",
    "\n",
    "rf_random = RandomizedSearchCV(estimator = model,\n",
    "                               scoring='neg_root_mean_squared_error',\n",
    "                               param_distributions = rforest_grid, \n",
    "                               n_iter = 100, \n",
    "                               cv = 3, \n",
    "                               verbose=2, \n",
    "                               random_state = random, \n",
    "                               n_jobs = -1)\n",
    "\n",
    "t0= time.time()\n",
    "result = rf_random.fit(features_train_hot,target_train)\n",
    "\n",
    "t1= time.time()\n",
    "yhat = result.predict(features_valid_hot)\n",
    "\n",
    "t2= time.time()\n",
    "rforest_params = result.best_params_\n",
    "rforest_model = result.best_estimator_\n",
    "\n",
    "rforest_op_RMSE = mean_squared_error(target_valid, yhat)**0.5\n",
    "rforest_op_score = {'rmse': [rforest_op_RMSE], 'training_time': [t1 - t0 ],'prediction_time': [t2 - t1 ]}\n",
    "rforest_op_score = pd.DataFrame(rforest_op_score, index = [ 'RandomForestRegressorOptim' ])\n",
    "\n",
    "print('Best Score: %s' % result.best_score_)\n",
    "print('Best Hyperparameters: %s' % result.best_params_)"
   ]
  },
  {
   "cell_type": "markdown",
   "metadata": {},
   "source": [
    "### CatBoost:"
   ]
  },
  {
   "cell_type": "code",
   "execution_count": 25,
   "metadata": {},
   "outputs": [],
   "source": [
    "cat_train, cat_valid = train_test_split(df.dropna(), test_size=0.3, random_state = random)\n",
    "\n",
    "cat_features_train = cat_train.drop(['price'], axis=1)\n",
    "cat_target_train = cat_train['price']\n",
    "\n",
    "cat_features_valid = cat_valid.drop(['price'], axis=1)\n",
    "cat_target_valid = cat_valid['price']"
   ]
  },
  {
   "cell_type": "code",
   "execution_count": 26,
   "metadata": {},
   "outputs": [
    {
     "name": "stdout",
     "output_type": "stream",
     "text": [
      "Learning rate set to 0.5\n",
      "0:\tlearn: 3504.4338251\ttotal: 2.35ms\tremaining: 115ms\n",
      "10:\tlearn: 1943.7266166\ttotal: 19.9ms\tremaining: 70.7ms\n",
      "20:\tlearn: 1711.0812548\ttotal: 36.6ms\tremaining: 50.5ms\n",
      "30:\tlearn: 1571.1787182\ttotal: 54.1ms\tremaining: 33.1ms\n",
      "40:\tlearn: 1480.5514476\ttotal: 71.8ms\tremaining: 15.8ms\n",
      "49:\tlearn: 1398.9767245\ttotal: 86.2ms\tremaining: 0us\n"
     ]
    }
   ],
   "source": [
    "from catboost import CatBoostRegressor\n",
    "\n",
    "model = CatBoostRegressor(loss_function=\"RMSE\", iterations=50)\n",
    "t0= time.time()\n",
    "\n",
    "model.fit(cat_features_train, cat_target_train, cat_features = cat_cols, verbose=10) \n",
    "t1= time.time()\n",
    "\n",
    "pred_cat = model.predict(cat_features_valid) \n",
    "t2= time.time()\n",
    "\n",
    "cat_RMSE = mean_squared_error(cat_target_valid, pred_cat)**0.5\n",
    "cat_score = {'rmse': [cat_RMSE], 'training_time': [t1 - t0 ],'prediction_time': [t2 - t1 ]}\n",
    "cat_score = pd.DataFrame(cat_score, index = [ 'CatBoostRegressor' ])"
   ]
  },
  {
   "cell_type": "markdown",
   "metadata": {},
   "source": [
    "### LightGBM:"
   ]
  },
  {
   "cell_type": "code",
   "execution_count": 27,
   "metadata": {},
   "outputs": [],
   "source": [
    "gbm_df = df.copy()\n",
    "#gbm_df = gbm_df.drop(['date', 'created', 'last_seen'], axis=1)\n",
    "\n",
    "for feature in cat_cols:\n",
    "    gbm_df[feature] = pd.Series(gbm_df[feature], dtype=\"category\")\n",
    "    \n",
    "gbm_train, gbm_valid = train_test_split(gbm_df, test_size=0.3, random_state = random)\n",
    "\n",
    "gbm_features_train = gbm_train.drop(['price'], axis=1)\n",
    "gbm_target_train = gbm_train['price']\n",
    "\n",
    "gbm_features_valid = gbm_valid.drop(['price'], axis=1)\n",
    "gbm_target_valid = gbm_valid['price']"
   ]
  },
  {
   "cell_type": "code",
   "execution_count": 28,
   "metadata": {},
   "outputs": [
    {
     "name": "stdout",
     "output_type": "stream",
     "text": [
      "[LightGBM] [Warning] Auto-choosing row-wise multi-threading, the overhead of testing was 0.000220 seconds.\n",
      "You can set `force_row_wise=true` to remove the overhead.\n",
      "And if memory is not enough, you can set `force_col_wise=true`.\n",
      "Training until validation scores don't improve for 5 rounds\n",
      "Did not meet early stopping. Best iteration is:\n",
      "[20]\tvalid_0's l1: 2039.48\tvalid_0's l2: 7.70375e+06\n"
     ]
    }
   ],
   "source": [
    "import lightgbm as lgb\n",
    "t0= time.time()\n",
    "\n",
    "# create dataset for lightgbm\n",
    "lgb_train = lgb.Dataset(gbm_features_train, gbm_target_train)\n",
    "lgb_eval = lgb.Dataset(gbm_features_valid, gbm_target_valid, reference=lgb_train)\n",
    "\n",
    "# specify configuration\n",
    "params = {\n",
    "    'boosting_type': 'gbdt',\n",
    "    'objective': 'regression',\n",
    "    'metric': {'l2', 'l1'},\n",
    "    'num_leaves': 31,\n",
    "    'learning_rate': 0.05,\n",
    "    'feature_fraction': 0.9,\n",
    "    'bagging_fraction': 0.8,\n",
    "    'bagging_freq': 5,\n",
    "    'verbose': 0\n",
    "}\n",
    "\n",
    "gbm = lgb.train(params,\n",
    "                lgb_train,\n",
    "                categorical_feature = cat_cols,\n",
    "                num_boost_round=20,\n",
    "                valid_sets = lgb_eval,\n",
    "                callbacks = [lgb.early_stopping(stopping_rounds=5)])\n",
    "\n",
    "t1= time.time()\n",
    "y_pred = gbm.predict(gbm_features_valid, num_iteration = gbm.best_iteration)\n",
    "t2= time.time()\n",
    "\n",
    "lgbm_RMSE = mean_squared_error(gbm_target_valid, y_pred)**0.5\n",
    "lgbm_score = {'rmse': [lgbm_RMSE], 'training_time': [t1 - t0 ],'prediction_time': [t2 - t1 ]}\n",
    "lgbm_score = pd.DataFrame(lgbm_score, index = [ 'LightGBM' ])"
   ]
  },
  {
   "cell_type": "markdown",
   "metadata": {},
   "source": [
    "### XGBoost:"
   ]
  },
  {
   "cell_type": "code",
   "execution_count": 29,
   "metadata": {},
   "outputs": [],
   "source": [
    "import xgboost as xgb\n",
    "model = xgb.XGBRegressor()\n",
    "t0= time.time()\n",
    "\n",
    "model.fit(features_train_hot,target_train)\n",
    "t1= time.time()\n",
    "\n",
    "yhat = model.predict(features_valid_hot)\n",
    "t2= time.time()\n",
    "\n",
    "xgboost_RMSE = mean_squared_error(target_valid, yhat)**0.5\n",
    "xgboost_score = {'rmse': [xgboost_RMSE], 'training_time': [t1 - t0 ],'prediction_time': [t2 - t1 ]}\n",
    "xgboost_score = pd.DataFrame(xgboost_score, index = [ 'XGBRegressor' ])"
   ]
  },
  {
   "cell_type": "markdown",
   "metadata": {},
   "source": [
    "## Model analysis\n",
    "### Create model evaluation function:"
   ]
  },
  {
   "cell_type": "code",
   "execution_count": 30,
   "metadata": {},
   "outputs": [],
   "source": [
    "def model_evaluation( model, name = \"\"):\n",
    "    t0= time.time()\n",
    "    \n",
    "    model.fit(features_train_hot,target_train)\n",
    "    t1= time.time()\n",
    "\n",
    "    predictions = model.predict(features_valid_hot)\n",
    "    t2= time.time()\n",
    "\n",
    "    RMSE = mean_squared_error(target_valid, predictions)**0.5\n",
    "   \n",
    "    score= {'rmse': [RMSE], 'training_time': [t1 - t0 ],'prediction_time': [t2 - t1 ]}  \n",
    "\n",
    "    return pd.DataFrame(score, index = [str(model).split('(')[0] + name])"
   ]
  },
  {
   "cell_type": "markdown",
   "metadata": {},
   "source": [
    "### Analyze the speed and quality of the models: "
   ]
  },
  {
   "cell_type": "code",
   "execution_count": 31,
   "metadata": {},
   "outputs": [],
   "source": [
    "model_score_ev = model_evaluation(LinearRegression())\n",
    "model_score_ev = model_score_ev.append(model_evaluation(DecisionTreeRegressor()))\n",
    "model_score_ev = model_score_ev.append(model_evaluation(RandomForestRegressor()))\n",
    "model_score_ev = model_score_ev.append(rforest_op_score)\n",
    "model_score_ev = model_score_ev.append(dtree_op_score)\n",
    "model_score_ev = model_score_ev.append(cat_score)\n",
    "model_score_ev = model_score_ev.append(lgbm_score)\n",
    "model_score_ev = model_score_ev.append(xgboost_score)"
   ]
  },
  {
   "cell_type": "markdown",
   "metadata": {},
   "source": [
    "* The difference between models acuracy is small, but the difference in time is large (somtimes in a 10^3 scale), so to mitigate the scale difference I chose 90% and 10% as weights KPI."
   ]
  },
  {
   "cell_type": "code",
   "execution_count": 32,
   "metadata": {},
   "outputs": [
    {
     "data": {
      "text/html": [
       "<div>\n",
       "<style scoped>\n",
       "    .dataframe tbody tr th:only-of-type {\n",
       "        vertical-align: middle;\n",
       "    }\n",
       "\n",
       "    .dataframe tbody tr th {\n",
       "        vertical-align: top;\n",
       "    }\n",
       "\n",
       "    .dataframe thead th {\n",
       "        text-align: right;\n",
       "    }\n",
       "</style>\n",
       "<table border=\"1\" class=\"dataframe\">\n",
       "  <thead>\n",
       "    <tr style=\"text-align: right;\">\n",
       "      <th></th>\n",
       "      <th>rmse</th>\n",
       "      <th>training_time</th>\n",
       "      <th>prediction_time</th>\n",
       "      <th>total_time</th>\n",
       "      <th>kpi</th>\n",
       "    </tr>\n",
       "  </thead>\n",
       "  <tbody>\n",
       "    <tr>\n",
       "      <th>CatBoostRegressor</th>\n",
       "      <td>2048.36</td>\n",
       "      <td>0.37</td>\n",
       "      <td>0.00</td>\n",
       "      <td>0.38</td>\n",
       "      <td>0.43</td>\n",
       "    </tr>\n",
       "    <tr>\n",
       "      <th>XGBRegressor</th>\n",
       "      <td>2114.77</td>\n",
       "      <td>11.52</td>\n",
       "      <td>0.07</td>\n",
       "      <td>11.59</td>\n",
       "      <td>2.43</td>\n",
       "    </tr>\n",
       "    <tr>\n",
       "      <th>RandomForestRegressor</th>\n",
       "      <td>2203.23</td>\n",
       "      <td>3.17</td>\n",
       "      <td>0.05</td>\n",
       "      <td>3.22</td>\n",
       "      <td>0.96</td>\n",
       "    </tr>\n",
       "    <tr>\n",
       "      <th>DecisionTreeRegressorOptim</th>\n",
       "      <td>2480.63</td>\n",
       "      <td>539.78</td>\n",
       "      <td>0.00</td>\n",
       "      <td>539.79</td>\n",
       "      <td>96.04</td>\n",
       "    </tr>\n",
       "    <tr>\n",
       "      <th>RandomForestRegressorOptim</th>\n",
       "      <td>2765.45</td>\n",
       "      <td>343.23</td>\n",
       "      <td>0.15</td>\n",
       "      <td>343.38</td>\n",
       "      <td>61.31</td>\n",
       "    </tr>\n",
       "    <tr>\n",
       "      <th>LightGBM</th>\n",
       "      <td>2775.56</td>\n",
       "      <td>0.24</td>\n",
       "      <td>0.09</td>\n",
       "      <td>0.33</td>\n",
       "      <td>0.55</td>\n",
       "    </tr>\n",
       "    <tr>\n",
       "      <th>DecisionTreeRegressor</th>\n",
       "      <td>2996.32</td>\n",
       "      <td>0.14</td>\n",
       "      <td>0.01</td>\n",
       "      <td>0.15</td>\n",
       "      <td>0.55</td>\n",
       "    </tr>\n",
       "    <tr>\n",
       "      <th>LinearRegression</th>\n",
       "      <td>5110.72</td>\n",
       "      <td>0.37</td>\n",
       "      <td>0.20</td>\n",
       "      <td>0.56</td>\n",
       "      <td>1.00</td>\n",
       "    </tr>\n",
       "  </tbody>\n",
       "</table>\n",
       "</div>"
      ],
      "text/plain": [
       "                               rmse  training_time  prediction_time  \\\n",
       "CatBoostRegressor           2048.36           0.37             0.00   \n",
       "XGBRegressor                2114.77          11.52             0.07   \n",
       "RandomForestRegressor       2203.23           3.17             0.05   \n",
       "DecisionTreeRegressorOptim  2480.63         539.78             0.00   \n",
       "RandomForestRegressorOptim  2765.45         343.23             0.15   \n",
       "LightGBM                    2775.56           0.24             0.09   \n",
       "DecisionTreeRegressor       2996.32           0.14             0.01   \n",
       "LinearRegression            5110.72           0.37             0.20   \n",
       "\n",
       "                            total_time    kpi  \n",
       "CatBoostRegressor                 0.38   0.43  \n",
       "XGBRegressor                     11.59   2.43  \n",
       "RandomForestRegressor             3.22   0.96  \n",
       "DecisionTreeRegressorOptim      539.79  96.04  \n",
       "RandomForestRegressorOptim      343.38  61.31  \n",
       "LightGBM                          0.33   0.55  \n",
       "DecisionTreeRegressor             0.15   0.55  \n",
       "LinearRegression                  0.56   1.00  "
      ]
     },
     "execution_count": 32,
     "metadata": {},
     "output_type": "execute_result"
    }
   ],
   "source": [
    "model_score_ev['total_time'] = model_score_ev['training_time'] + model_score_ev['prediction_time']\n",
    "model_score_ev['kpi'] = 0.9*model_score_ev['rmse']/model_score_ev.loc[['LinearRegression']].rmse.values + 0.1*model_score_ev['total_time']/model_score_ev.loc[['LinearRegression']].total_time.values\n",
    "\n",
    "model_score_ev.sort_values(by = 'rmse').round(2)"
   ]
  },
  {
   "cell_type": "markdown",
   "metadata": {},
   "source": [
    "## Conclusions:\n",
    "* CatBoostRegressor is the most precise model for this dataset but it is also very slow.\n",
    "* DecisionTreeRegressor is the fastest model for this dataset.\n",
    "* Taking to account speed and precision CatBoostRegressor will be our best choice."
   ]
  }
 ],
 "metadata": {
  "ExecuteTimeLog": [
   {
    "duration": 66,
    "start_time": "2022-05-19T08:47:02.021Z"
   },
   {
    "duration": 8,
    "start_time": "2022-05-19T08:47:54.964Z"
   },
   {
    "duration": 1438,
    "start_time": "2022-05-19T08:48:00.823Z"
   },
   {
    "duration": 197,
    "start_time": "2022-05-19T08:48:02.263Z"
   },
   {
    "duration": 117,
    "start_time": "2022-05-19T08:55:49.183Z"
   },
   {
    "duration": 14,
    "start_time": "2022-05-19T08:56:14.864Z"
   },
   {
    "duration": 12,
    "start_time": "2022-05-19T08:56:25.944Z"
   },
   {
    "duration": 10,
    "start_time": "2022-05-19T08:56:35.461Z"
   },
   {
    "duration": 13,
    "start_time": "2022-05-19T08:57:08.060Z"
   },
   {
    "duration": 4,
    "start_time": "2022-05-19T08:57:08.503Z"
   },
   {
    "duration": 10,
    "start_time": "2022-05-19T08:57:16.553Z"
   },
   {
    "duration": 5,
    "start_time": "2022-05-19T08:57:16.943Z"
   },
   {
    "duration": 10,
    "start_time": "2022-05-19T08:57:53.184Z"
   },
   {
    "duration": 4,
    "start_time": "2022-05-19T08:57:53.903Z"
   },
   {
    "duration": 10,
    "start_time": "2022-05-19T08:58:16.634Z"
   },
   {
    "duration": 4,
    "start_time": "2022-05-19T08:58:16.903Z"
   },
   {
    "duration": 5,
    "start_time": "2022-05-19T09:00:27.543Z"
   },
   {
    "duration": 17,
    "start_time": "2022-05-19T09:02:33.272Z"
   },
   {
    "duration": 21,
    "start_time": "2022-05-19T09:03:32.173Z"
   },
   {
    "duration": 20,
    "start_time": "2022-05-19T09:04:15.726Z"
   },
   {
    "duration": 33,
    "start_time": "2022-05-19T09:04:31.754Z"
   },
   {
    "duration": 23,
    "start_time": "2022-05-19T09:04:36.423Z"
   },
   {
    "duration": 43,
    "start_time": "2022-05-19T09:05:00.890Z"
   },
   {
    "duration": 90,
    "start_time": "2022-05-19T09:05:46.853Z"
   },
   {
    "duration": 926,
    "start_time": "2022-05-19T09:06:05.143Z"
   },
   {
    "duration": 9,
    "start_time": "2022-05-19T09:06:14.263Z"
   },
   {
    "duration": 36,
    "start_time": "2022-05-19T09:06:19.603Z"
   },
   {
    "duration": 34,
    "start_time": "2022-05-19T09:06:31.821Z"
   },
   {
    "duration": 44,
    "start_time": "2022-05-19T09:06:46.826Z"
   },
   {
    "duration": 6,
    "start_time": "2022-05-19T09:08:57.994Z"
   },
   {
    "duration": 3,
    "start_time": "2022-05-19T09:10:24.983Z"
   },
   {
    "duration": 2,
    "start_time": "2022-05-19T09:10:46.554Z"
   },
   {
    "duration": 8,
    "start_time": "2022-05-19T09:10:46.803Z"
   },
   {
    "duration": 4,
    "start_time": "2022-05-19T09:10:47.643Z"
   },
   {
    "duration": 24,
    "start_time": "2022-05-19T09:10:51.693Z"
   },
   {
    "duration": 5,
    "start_time": "2022-05-19T09:11:05.983Z"
   },
   {
    "duration": 5,
    "start_time": "2022-05-19T09:11:11.543Z"
   },
   {
    "duration": 4,
    "start_time": "2022-05-19T09:12:19.422Z"
   },
   {
    "duration": 3,
    "start_time": "2022-05-19T09:12:19.428Z"
   },
   {
    "duration": 105,
    "start_time": "2022-05-19T09:12:19.433Z"
   },
   {
    "duration": 760,
    "start_time": "2022-05-19T09:12:19.540Z"
   },
   {
    "duration": 3,
    "start_time": "2022-05-19T09:12:21.893Z"
   },
   {
    "duration": 740,
    "start_time": "2022-05-19T09:12:23.586Z"
   },
   {
    "duration": 4,
    "start_time": "2022-05-19T09:12:24.744Z"
   },
   {
    "duration": 727,
    "start_time": "2022-05-19T09:13:33.439Z"
   },
   {
    "duration": 15,
    "start_time": "2022-05-19T09:13:34.168Z"
   },
   {
    "duration": 4,
    "start_time": "2022-05-19T09:13:34.185Z"
   },
   {
    "duration": 13,
    "start_time": "2022-05-19T09:13:34.191Z"
   },
   {
    "duration": 5,
    "start_time": "2022-05-19T09:13:34.206Z"
   },
   {
    "duration": 21,
    "start_time": "2022-05-19T09:13:40.678Z"
   },
   {
    "duration": 773,
    "start_time": "2022-05-19T09:18:38.234Z"
   },
   {
    "duration": 4,
    "start_time": "2022-05-19T09:18:45.463Z"
   },
   {
    "duration": 4,
    "start_time": "2022-05-19T09:18:45.713Z"
   },
   {
    "duration": 8,
    "start_time": "2022-05-19T09:18:46.713Z"
   },
   {
    "duration": 4,
    "start_time": "2022-05-19T09:18:49.653Z"
   },
   {
    "duration": 17,
    "start_time": "2022-05-19T09:18:50.193Z"
   },
   {
    "duration": 781,
    "start_time": "2022-05-19T09:19:49.273Z"
   },
   {
    "duration": 5,
    "start_time": "2022-05-19T09:19:52.671Z"
   },
   {
    "duration": 4,
    "start_time": "2022-05-19T09:19:54.624Z"
   },
   {
    "duration": 11,
    "start_time": "2022-05-19T09:19:54.873Z"
   },
   {
    "duration": 30,
    "start_time": "2022-05-19T09:20:04.349Z"
   },
   {
    "duration": 4,
    "start_time": "2022-05-19T09:20:39.897Z"
   },
   {
    "duration": 9,
    "start_time": "2022-05-19T09:20:40.147Z"
   },
   {
    "duration": 22,
    "start_time": "2022-05-19T09:20:40.573Z"
   },
   {
    "duration": 1165,
    "start_time": "2022-05-19T09:30:57.105Z"
   },
   {
    "duration": 16,
    "start_time": "2022-05-19T09:31:54.765Z"
   },
   {
    "duration": 5,
    "start_time": "2022-05-19T09:45:24.559Z"
   },
   {
    "duration": 10,
    "start_time": "2022-05-19T09:46:55.929Z"
   },
   {
    "duration": 26,
    "start_time": "2022-05-19T09:46:56.499Z"
   },
   {
    "duration": 730,
    "start_time": "2022-05-19T09:47:55.339Z"
   },
   {
    "duration": 40,
    "start_time": "2022-05-19T09:47:56.850Z"
   },
   {
    "duration": 4,
    "start_time": "2022-05-19T09:58:19.918Z"
   },
   {
    "duration": 19,
    "start_time": "2022-05-19T09:58:24.002Z"
   },
   {
    "duration": 23,
    "start_time": "2022-05-19T09:59:54.460Z"
   },
   {
    "duration": 20,
    "start_time": "2022-05-19T10:00:03.750Z"
   },
   {
    "duration": 19,
    "start_time": "2022-05-19T10:00:15.680Z"
   },
   {
    "duration": 5,
    "start_time": "2022-05-19T10:00:52.360Z"
   },
   {
    "duration": 3,
    "start_time": "2022-05-19T10:02:24.349Z"
   },
   {
    "duration": 16,
    "start_time": "2022-05-19T10:02:34.559Z"
   },
   {
    "duration": 4,
    "start_time": "2022-05-19T10:02:44.166Z"
   },
   {
    "duration": 4,
    "start_time": "2022-05-19T10:02:57.090Z"
   },
   {
    "duration": 12,
    "start_time": "2022-05-19T10:10:20.480Z"
   },
   {
    "duration": 9,
    "start_time": "2022-05-19T10:10:49.880Z"
   },
   {
    "duration": 34,
    "start_time": "2022-05-19T10:12:44.629Z"
   },
   {
    "duration": 24,
    "start_time": "2022-05-19T10:16:02.986Z"
   },
   {
    "duration": 26,
    "start_time": "2022-05-19T10:16:10.952Z"
   },
   {
    "duration": 20,
    "start_time": "2022-05-19T10:17:05.519Z"
   },
   {
    "duration": 13,
    "start_time": "2022-05-19T10:17:07.668Z"
   },
   {
    "duration": 72,
    "start_time": "2022-05-19T10:17:45.389Z"
   },
   {
    "duration": 27,
    "start_time": "2022-05-19T10:18:05.629Z"
   },
   {
    "duration": 9,
    "start_time": "2022-05-19T10:19:06.610Z"
   },
   {
    "duration": 9,
    "start_time": "2022-05-19T10:19:22.311Z"
   },
   {
    "duration": 10,
    "start_time": "2022-05-19T10:19:27.919Z"
   },
   {
    "duration": 807,
    "start_time": "2022-05-19T10:25:06.004Z"
   },
   {
    "duration": 42,
    "start_time": "2022-05-19T10:25:06.813Z"
   },
   {
    "duration": 41,
    "start_time": "2022-05-19T10:37:39.734Z"
   },
   {
    "duration": 19,
    "start_time": "2022-05-19T10:37:49.386Z"
   },
   {
    "duration": 13,
    "start_time": "2022-05-19T10:37:50.576Z"
   },
   {
    "duration": 38,
    "start_time": "2022-05-19T10:37:51.179Z"
   },
   {
    "duration": 8,
    "start_time": "2022-05-19T10:37:54.866Z"
   },
   {
    "duration": 18,
    "start_time": "2022-05-19T10:38:07.617Z"
   },
   {
    "duration": 854,
    "start_time": "2022-05-19T12:05:05.270Z"
   },
   {
    "duration": 34,
    "start_time": "2022-05-19T12:05:09.660Z"
   },
   {
    "duration": 27,
    "start_time": "2022-05-19T12:10:20.831Z"
   },
   {
    "duration": 33,
    "start_time": "2022-05-19T12:10:54.840Z"
   },
   {
    "duration": 38,
    "start_time": "2022-05-19T12:11:18.409Z"
   },
   {
    "duration": 20,
    "start_time": "2022-05-19T12:11:48.955Z"
   },
   {
    "duration": 4,
    "start_time": "2022-05-19T12:18:12.821Z"
   },
   {
    "duration": 42,
    "start_time": "2022-05-19T12:18:17.947Z"
   },
   {
    "duration": 22,
    "start_time": "2022-05-19T12:19:22.483Z"
   },
   {
    "duration": 3,
    "start_time": "2022-05-19T12:20:00.351Z"
   },
   {
    "duration": 5,
    "start_time": "2022-05-19T12:20:03.511Z"
   },
   {
    "duration": 11,
    "start_time": "2022-05-19T12:20:04.213Z"
   },
   {
    "duration": 573,
    "start_time": "2022-05-19T12:20:48.821Z"
   },
   {
    "duration": 0,
    "start_time": "2022-05-19T12:20:49.398Z"
   },
   {
    "duration": 10124,
    "start_time": "2022-05-19T12:21:23.121Z"
   },
   {
    "duration": 44,
    "start_time": "2022-05-19T12:21:40.381Z"
   },
   {
    "duration": 1018,
    "start_time": "2022-05-19T12:22:09.113Z"
   },
   {
    "duration": 811,
    "start_time": "2022-05-19T12:22:10.133Z"
   },
   {
    "duration": 60,
    "start_time": "2022-05-19T12:22:10.946Z"
   },
   {
    "duration": 3,
    "start_time": "2022-05-19T12:22:11.015Z"
   },
   {
    "duration": 2,
    "start_time": "2022-05-19T12:22:22.041Z"
   },
   {
    "duration": 4,
    "start_time": "2022-05-19T12:22:22.340Z"
   },
   {
    "duration": 3,
    "start_time": "2022-05-19T12:22:22.671Z"
   },
   {
    "duration": 3,
    "start_time": "2022-05-19T12:22:23.305Z"
   },
   {
    "duration": 118,
    "start_time": "2022-05-19T12:22:24.710Z"
   },
   {
    "duration": 12,
    "start_time": "2022-05-19T12:22:31.230Z"
   },
   {
    "duration": 4584,
    "start_time": "2022-05-19T12:22:44.092Z"
   },
   {
    "duration": 22,
    "start_time": "2022-05-19T12:22:52.591Z"
   },
   {
    "duration": 4,
    "start_time": "2022-05-19T12:23:29.960Z"
   },
   {
    "duration": 34,
    "start_time": "2022-05-19T12:23:34.961Z"
   },
   {
    "duration": 54,
    "start_time": "2022-05-19T12:23:45.070Z"
   },
   {
    "duration": 17,
    "start_time": "2022-05-19T12:23:56.142Z"
   },
   {
    "duration": 34,
    "start_time": "2022-05-19T12:24:04.908Z"
   },
   {
    "duration": 94,
    "start_time": "2022-05-19T12:26:13.250Z"
   },
   {
    "duration": 46,
    "start_time": "2022-05-19T12:34:18.388Z"
   },
   {
    "duration": 52,
    "start_time": "2022-05-19T12:34:19.389Z"
   },
   {
    "duration": 3,
    "start_time": "2022-05-19T12:34:29.811Z"
   },
   {
    "duration": 5,
    "start_time": "2022-05-19T12:34:34.506Z"
   },
   {
    "duration": 38,
    "start_time": "2022-05-19T12:34:37.790Z"
   },
   {
    "duration": 36,
    "start_time": "2022-05-19T12:34:40.041Z"
   },
   {
    "duration": 25,
    "start_time": "2022-05-19T12:34:46.389Z"
   },
   {
    "duration": 44,
    "start_time": "2022-05-19T12:34:50.900Z"
   },
   {
    "duration": 26,
    "start_time": "2022-05-19T12:35:02.740Z"
   },
   {
    "duration": 857,
    "start_time": "2022-05-19T12:35:26.222Z"
   },
   {
    "duration": 58,
    "start_time": "2022-05-19T12:35:27.238Z"
   },
   {
    "duration": 11,
    "start_time": "2022-05-19T12:35:31.790Z"
   },
   {
    "duration": 40,
    "start_time": "2022-05-19T12:35:33.418Z"
   },
   {
    "duration": 37,
    "start_time": "2022-05-19T12:35:36.369Z"
   },
   {
    "duration": 18,
    "start_time": "2022-05-19T12:35:40.038Z"
   },
   {
    "duration": 11,
    "start_time": "2022-05-19T12:37:00.939Z"
   },
   {
    "duration": 14,
    "start_time": "2022-05-19T12:37:03.639Z"
   },
   {
    "duration": 32,
    "start_time": "2022-05-19T12:37:12.201Z"
   },
   {
    "duration": 4,
    "start_time": "2022-05-19T12:38:47.439Z"
   },
   {
    "duration": 895,
    "start_time": "2022-05-19T12:38:49.310Z"
   },
   {
    "duration": 42,
    "start_time": "2022-05-19T12:38:50.207Z"
   },
   {
    "duration": 47,
    "start_time": "2022-05-19T12:38:53.979Z"
   },
   {
    "duration": 16,
    "start_time": "2022-05-19T12:38:56.458Z"
   },
   {
    "duration": 23,
    "start_time": "2022-05-19T12:39:12.971Z"
   },
   {
    "duration": 38,
    "start_time": "2022-05-19T12:39:17.653Z"
   },
   {
    "duration": 8,
    "start_time": "2022-05-19T12:39:21.178Z"
   },
   {
    "duration": 34,
    "start_time": "2022-05-19T12:39:21.871Z"
   },
   {
    "duration": 20,
    "start_time": "2022-05-19T12:39:23.596Z"
   },
   {
    "duration": 19,
    "start_time": "2022-05-19T12:40:37.440Z"
   },
   {
    "duration": 6,
    "start_time": "2022-05-19T12:41:05.159Z"
   },
   {
    "duration": 35,
    "start_time": "2022-05-19T12:41:06.803Z"
   },
   {
    "duration": 1843,
    "start_time": "2022-05-19T12:41:12.310Z"
   },
   {
    "duration": 19,
    "start_time": "2022-05-19T12:41:31.829Z"
   },
   {
    "duration": 1740,
    "start_time": "2022-05-19T12:42:40.828Z"
   },
   {
    "duration": 49,
    "start_time": "2022-05-19T12:42:46.460Z"
   },
   {
    "duration": 14,
    "start_time": "2022-05-19T12:42:53.069Z"
   },
   {
    "duration": 1566,
    "start_time": "2022-05-19T12:44:20.200Z"
   },
   {
    "duration": 11,
    "start_time": "2022-05-19T12:44:24.639Z"
   },
   {
    "duration": 33,
    "start_time": "2022-05-19T12:44:45.869Z"
   },
   {
    "duration": 1448,
    "start_time": "2022-05-19T12:46:07.753Z"
   },
   {
    "duration": 32,
    "start_time": "2022-05-19T12:46:09.333Z"
   },
   {
    "duration": 21,
    "start_time": "2022-05-19T12:47:01.662Z"
   },
   {
    "duration": 12,
    "start_time": "2022-05-19T12:49:29.549Z"
   },
   {
    "duration": 41,
    "start_time": "2022-05-19T12:49:33.680Z"
   },
   {
    "duration": 1402,
    "start_time": "2022-05-19T12:50:45.470Z"
   },
   {
    "duration": 25,
    "start_time": "2022-05-19T12:50:53.202Z"
   },
   {
    "duration": 17,
    "start_time": "2022-05-19T12:52:04.740Z"
   },
   {
    "duration": 25,
    "start_time": "2022-05-19T12:52:17.682Z"
   },
   {
    "duration": 32,
    "start_time": "2022-05-19T12:52:32.180Z"
   },
   {
    "duration": 6,
    "start_time": "2022-05-19T12:55:41.550Z"
   },
   {
    "duration": 13,
    "start_time": "2022-05-19T12:56:30.436Z"
   },
   {
    "duration": 26,
    "start_time": "2022-05-19T12:56:35.026Z"
   },
   {
    "duration": 19,
    "start_time": "2022-05-19T12:56:58.434Z"
   },
   {
    "duration": 34,
    "start_time": "2022-05-19T12:56:59.770Z"
   },
   {
    "duration": 21,
    "start_time": "2022-05-19T12:57:07.138Z"
   },
   {
    "duration": 12,
    "start_time": "2022-05-19T12:57:25.977Z"
   },
   {
    "duration": 19,
    "start_time": "2022-05-19T12:57:30.790Z"
   },
   {
    "duration": 22,
    "start_time": "2022-05-19T12:58:24.199Z"
   },
   {
    "duration": 16,
    "start_time": "2022-05-19T12:58:34.079Z"
   },
   {
    "duration": 1401,
    "start_time": "2022-05-19T12:58:37.778Z"
   },
   {
    "duration": 23,
    "start_time": "2022-05-19T12:58:41.271Z"
   },
   {
    "duration": 40,
    "start_time": "2022-05-19T12:58:42.292Z"
   },
   {
    "duration": 4,
    "start_time": "2022-05-19T13:02:12.717Z"
   },
   {
    "duration": 733,
    "start_time": "2022-05-19T13:02:13.440Z"
   },
   {
    "duration": 44,
    "start_time": "2022-05-19T13:02:14.176Z"
   },
   {
    "duration": 23,
    "start_time": "2022-05-19T13:02:17.396Z"
   },
   {
    "duration": 10,
    "start_time": "2022-05-19T13:02:18.310Z"
   },
   {
    "duration": 9,
    "start_time": "2022-05-19T13:02:20.796Z"
   },
   {
    "duration": 1328,
    "start_time": "2022-05-19T13:02:22.040Z"
   },
   {
    "duration": 27,
    "start_time": "2022-05-19T13:02:23.369Z"
   },
   {
    "duration": 34,
    "start_time": "2022-05-19T13:02:23.398Z"
   },
   {
    "duration": 4,
    "start_time": "2022-05-19T13:12:00.650Z"
   },
   {
    "duration": 758,
    "start_time": "2022-05-19T13:12:01.197Z"
   },
   {
    "duration": 45,
    "start_time": "2022-05-19T13:12:01.957Z"
   },
   {
    "duration": 24,
    "start_time": "2022-05-19T13:12:02.687Z"
   },
   {
    "duration": 17,
    "start_time": "2022-05-19T13:12:03.797Z"
   },
   {
    "duration": 1143,
    "start_time": "2022-05-19T13:12:08.216Z"
   },
   {
    "duration": 26,
    "start_time": "2022-05-19T13:12:09.448Z"
   },
   {
    "duration": 39,
    "start_time": "2022-05-19T13:12:30.567Z"
   },
   {
    "duration": 34,
    "start_time": "2022-05-19T13:12:49.447Z"
   },
   {
    "duration": 590,
    "start_time": "2022-05-19T13:13:48.176Z"
   },
   {
    "duration": 6,
    "start_time": "2022-05-19T13:13:57.406Z"
   },
   {
    "duration": 7,
    "start_time": "2022-05-19T13:14:07.148Z"
   },
   {
    "duration": 6,
    "start_time": "2022-05-19T13:14:40.418Z"
   },
   {
    "duration": 42,
    "start_time": "2022-05-19T13:15:11.198Z"
   },
   {
    "duration": 28,
    "start_time": "2022-05-19T13:17:11.180Z"
   },
   {
    "duration": 37,
    "start_time": "2022-05-19T13:17:20.161Z"
   },
   {
    "duration": 36,
    "start_time": "2022-05-19T13:20:13.551Z"
   },
   {
    "duration": 55,
    "start_time": "2022-05-19T13:20:19.694Z"
   },
   {
    "duration": 14,
    "start_time": "2022-05-19T13:21:22.968Z"
   },
   {
    "duration": 11,
    "start_time": "2022-05-19T13:21:57.177Z"
   },
   {
    "duration": 24,
    "start_time": "2022-05-19T13:22:03.926Z"
   },
   {
    "duration": 5,
    "start_time": "2022-05-19T13:23:10.908Z"
   },
   {
    "duration": 772,
    "start_time": "2022-05-19T13:23:11.459Z"
   },
   {
    "duration": 35,
    "start_time": "2022-05-19T13:23:12.233Z"
   },
   {
    "duration": 44,
    "start_time": "2022-05-19T13:23:12.270Z"
   },
   {
    "duration": 39,
    "start_time": "2022-05-19T13:23:12.568Z"
   },
   {
    "duration": 1246,
    "start_time": "2022-05-19T13:23:13.008Z"
   },
   {
    "duration": 35,
    "start_time": "2022-05-19T13:23:14.256Z"
   },
   {
    "duration": 0,
    "start_time": "2022-05-19T13:23:14.296Z"
   },
   {
    "duration": 11,
    "start_time": "2022-05-19T13:24:21.607Z"
   },
   {
    "duration": 12,
    "start_time": "2022-05-19T13:24:35.518Z"
   },
   {
    "duration": 9,
    "start_time": "2022-05-19T13:24:44.359Z"
   },
   {
    "duration": 794,
    "start_time": "2022-05-19T13:25:56.947Z"
   },
   {
    "duration": 51,
    "start_time": "2022-05-19T13:25:57.743Z"
   },
   {
    "duration": 46,
    "start_time": "2022-05-19T13:26:00.547Z"
   },
   {
    "duration": 6,
    "start_time": "2022-05-19T13:26:07.795Z"
   },
   {
    "duration": 11,
    "start_time": "2022-05-19T13:26:38.885Z"
   },
   {
    "duration": 16,
    "start_time": "2022-05-19T13:26:39.405Z"
   },
   {
    "duration": 1201,
    "start_time": "2022-05-19T13:26:40.246Z"
   },
   {
    "duration": 39,
    "start_time": "2022-05-19T13:26:44.046Z"
   },
   {
    "duration": 26,
    "start_time": "2022-05-19T13:26:45.125Z"
   },
   {
    "duration": 19,
    "start_time": "2022-05-19T13:27:07.336Z"
   },
   {
    "duration": 1255,
    "start_time": "2022-05-20T05:56:15.623Z"
   },
   {
    "duration": 853,
    "start_time": "2022-05-20T05:56:16.880Z"
   },
   {
    "duration": 44,
    "start_time": "2022-05-20T05:56:17.734Z"
   },
   {
    "duration": 35,
    "start_time": "2022-05-20T05:56:19.023Z"
   },
   {
    "duration": 138,
    "start_time": "2022-05-20T05:56:20.513Z"
   },
   {
    "duration": 12,
    "start_time": "2022-05-20T05:56:48.232Z"
   },
   {
    "duration": 4,
    "start_time": "2022-05-20T05:57:11.223Z"
   },
   {
    "duration": 5,
    "start_time": "2022-05-20T05:58:11.385Z"
   },
   {
    "duration": 4,
    "start_time": "2022-05-20T05:58:15.953Z"
   },
   {
    "duration": 8,
    "start_time": "2022-05-20T05:58:37.915Z"
   },
   {
    "duration": 8,
    "start_time": "2022-05-20T05:58:41.353Z"
   },
   {
    "duration": 3,
    "start_time": "2022-05-20T05:58:45.795Z"
   },
   {
    "duration": 4,
    "start_time": "2022-05-20T05:58:54.575Z"
   },
   {
    "duration": 10,
    "start_time": "2022-05-20T05:59:50.295Z"
   },
   {
    "duration": 5,
    "start_time": "2022-05-20T06:01:05.308Z"
   },
   {
    "duration": 3,
    "start_time": "2022-05-20T06:01:09.725Z"
   },
   {
    "duration": 13,
    "start_time": "2022-05-20T06:06:00.953Z"
   },
   {
    "duration": 4,
    "start_time": "2022-05-20T06:06:08.800Z"
   },
   {
    "duration": 4,
    "start_time": "2022-05-20T06:06:14.271Z"
   },
   {
    "duration": 5,
    "start_time": "2022-05-20T06:06:24.898Z"
   },
   {
    "duration": 4,
    "start_time": "2022-05-20T06:08:07.861Z"
   },
   {
    "duration": 873,
    "start_time": "2022-05-20T06:08:08.321Z"
   },
   {
    "duration": 36,
    "start_time": "2022-05-20T06:08:09.196Z"
   },
   {
    "duration": 25,
    "start_time": "2022-05-20T06:08:09.391Z"
   },
   {
    "duration": 5,
    "start_time": "2022-05-20T06:08:10.053Z"
   },
   {
    "duration": 7,
    "start_time": "2022-05-20T06:08:11.390Z"
   },
   {
    "duration": 25,
    "start_time": "2022-05-20T06:11:25.260Z"
   },
   {
    "duration": 3,
    "start_time": "2022-05-20T06:20:13.509Z"
   },
   {
    "duration": 778,
    "start_time": "2022-05-20T06:20:13.999Z"
   },
   {
    "duration": 34,
    "start_time": "2022-05-20T06:20:14.779Z"
   },
   {
    "duration": 25,
    "start_time": "2022-05-20T06:20:15.059Z"
   },
   {
    "duration": 3,
    "start_time": "2022-05-20T06:20:19.730Z"
   },
   {
    "duration": 4,
    "start_time": "2022-05-20T06:22:03.360Z"
   },
   {
    "duration": 785,
    "start_time": "2022-05-20T06:22:03.840Z"
   },
   {
    "duration": 49,
    "start_time": "2022-05-20T06:22:04.627Z"
   },
   {
    "duration": 26,
    "start_time": "2022-05-20T06:22:05.283Z"
   },
   {
    "duration": 11,
    "start_time": "2022-05-20T06:22:13.980Z"
   },
   {
    "duration": 903,
    "start_time": "2022-05-20T06:25:11.680Z"
   },
   {
    "duration": 35,
    "start_time": "2022-05-20T06:25:12.585Z"
   },
   {
    "duration": 32,
    "start_time": "2022-05-20T06:25:12.622Z"
   },
   {
    "duration": 7,
    "start_time": "2022-05-20T06:25:12.720Z"
   },
   {
    "duration": 32,
    "start_time": "2022-05-20T06:25:35.454Z"
   },
   {
    "duration": 14,
    "start_time": "2022-05-20T06:25:36.981Z"
   },
   {
    "duration": 10,
    "start_time": "2022-05-20T06:26:03.054Z"
   },
   {
    "duration": 10,
    "start_time": "2022-05-20T06:26:23.572Z"
   },
   {
    "duration": 11,
    "start_time": "2022-05-20T06:26:27.681Z"
   },
   {
    "duration": 9,
    "start_time": "2022-05-20T06:26:31.888Z"
   },
   {
    "duration": 15,
    "start_time": "2022-05-20T06:26:39.363Z"
   },
   {
    "duration": 8,
    "start_time": "2022-05-20T06:26:43.101Z"
   },
   {
    "duration": 7,
    "start_time": "2022-05-20T06:26:45.681Z"
   },
   {
    "duration": 7,
    "start_time": "2022-05-20T06:27:02.361Z"
   },
   {
    "duration": 8,
    "start_time": "2022-05-20T06:27:15.445Z"
   },
   {
    "duration": 8,
    "start_time": "2022-05-20T06:27:19.559Z"
   },
   {
    "duration": 52,
    "start_time": "2022-05-20T06:34:53.874Z"
   },
   {
    "duration": 37,
    "start_time": "2022-05-20T06:34:55.163Z"
   },
   {
    "duration": 8,
    "start_time": "2022-05-20T06:34:57.824Z"
   },
   {
    "duration": 4,
    "start_time": "2022-05-20T06:35:13.780Z"
   },
   {
    "duration": 12,
    "start_time": "2022-05-20T06:35:42.113Z"
   },
   {
    "duration": 9,
    "start_time": "2022-05-20T06:35:53.584Z"
   },
   {
    "duration": 8,
    "start_time": "2022-05-20T06:35:58.114Z"
   },
   {
    "duration": 21,
    "start_time": "2022-05-20T06:37:15.768Z"
   },
   {
    "duration": 52,
    "start_time": "2022-05-20T06:38:32.162Z"
   },
   {
    "duration": 9,
    "start_time": "2022-05-20T06:38:36.794Z"
   },
   {
    "duration": 36,
    "start_time": "2022-05-20T06:38:51.626Z"
   },
   {
    "duration": 10,
    "start_time": "2022-05-20T06:38:52.677Z"
   },
   {
    "duration": 727,
    "start_time": "2022-05-20T06:39:39.963Z"
   },
   {
    "duration": 30,
    "start_time": "2022-05-20T06:39:40.692Z"
   },
   {
    "duration": 33,
    "start_time": "2022-05-20T06:39:48.223Z"
   },
   {
    "duration": 9,
    "start_time": "2022-05-20T06:39:50.302Z"
   },
   {
    "duration": 811,
    "start_time": "2022-05-20T06:43:45.082Z"
   },
   {
    "duration": 35,
    "start_time": "2022-05-20T06:43:45.895Z"
   },
   {
    "duration": 44,
    "start_time": "2022-05-20T06:43:47.040Z"
   },
   {
    "duration": 9,
    "start_time": "2022-05-20T06:43:50.312Z"
   },
   {
    "duration": 15,
    "start_time": "2022-05-20T06:44:27.555Z"
   },
   {
    "duration": 1201,
    "start_time": "2022-05-20T06:44:28.522Z"
   },
   {
    "duration": 57,
    "start_time": "2022-05-20T06:44:29.725Z"
   },
   {
    "duration": 20,
    "start_time": "2022-05-20T06:44:31.853Z"
   },
   {
    "duration": 5,
    "start_time": "2022-05-20T06:45:33.413Z"
   },
   {
    "duration": 740,
    "start_time": "2022-05-20T06:45:33.882Z"
   },
   {
    "duration": 50,
    "start_time": "2022-05-20T06:45:34.624Z"
   },
   {
    "duration": 25,
    "start_time": "2022-05-20T06:45:34.676Z"
   },
   {
    "duration": 8,
    "start_time": "2022-05-20T06:45:34.813Z"
   },
   {
    "duration": 22,
    "start_time": "2022-05-20T06:46:00.244Z"
   },
   {
    "duration": 980,
    "start_time": "2022-05-21T06:02:28.250Z"
   },
   {
    "duration": 739,
    "start_time": "2022-05-21T06:02:29.232Z"
   },
   {
    "duration": 36,
    "start_time": "2022-05-21T06:02:29.973Z"
   },
   {
    "duration": 26,
    "start_time": "2022-05-21T06:02:30.011Z"
   },
   {
    "duration": 29,
    "start_time": "2022-05-21T06:02:30.052Z"
   },
   {
    "duration": 1167,
    "start_time": "2022-05-21T06:02:30.459Z"
   },
   {
    "duration": 51,
    "start_time": "2022-05-21T06:02:31.628Z"
   },
   {
    "duration": 27,
    "start_time": "2022-05-21T06:02:31.680Z"
   },
   {
    "duration": 57,
    "start_time": "2022-05-21T07:09:09.069Z"
   },
   {
    "duration": 3,
    "start_time": "2022-05-21T07:09:18.071Z"
   },
   {
    "duration": 3,
    "start_time": "2022-05-21T07:09:20.070Z"
   },
   {
    "duration": 147,
    "start_time": "2022-05-21T07:17:22.528Z"
   },
   {
    "duration": 12,
    "start_time": "2022-05-21T07:18:33.370Z"
   },
   {
    "duration": 4,
    "start_time": "2022-05-21T07:18:53.204Z"
   },
   {
    "duration": 4,
    "start_time": "2022-05-21T07:26:10.196Z"
   },
   {
    "duration": 4958,
    "start_time": "2022-05-21T07:36:09.224Z"
   },
   {
    "duration": 8,
    "start_time": "2022-05-21T07:37:06.679Z"
   },
   {
    "duration": 5,
    "start_time": "2022-05-21T07:37:13.236Z"
   },
   {
    "duration": 9,
    "start_time": "2022-05-21T07:37:27.136Z"
   },
   {
    "duration": 5,
    "start_time": "2022-05-21T07:37:30.306Z"
   },
   {
    "duration": 4,
    "start_time": "2022-05-21T07:55:45.809Z"
   },
   {
    "duration": 741,
    "start_time": "2022-05-21T07:55:47.896Z"
   },
   {
    "duration": 32,
    "start_time": "2022-05-21T07:55:49.177Z"
   },
   {
    "duration": 23,
    "start_time": "2022-05-21T07:55:59.774Z"
   },
   {
    "duration": 14,
    "start_time": "2022-05-21T07:56:00.812Z"
   },
   {
    "duration": 1091,
    "start_time": "2022-05-21T07:56:06.022Z"
   },
   {
    "duration": 170,
    "start_time": "2022-05-21T07:56:07.985Z"
   },
   {
    "duration": 4,
    "start_time": "2022-05-21T07:56:13.785Z"
   },
   {
    "duration": 4,
    "start_time": "2022-05-21T07:56:15.174Z"
   },
   {
    "duration": 4,
    "start_time": "2022-05-21T08:07:35.667Z"
   },
   {
    "duration": 4,
    "start_time": "2022-05-21T10:51:54.232Z"
   },
   {
    "duration": 684,
    "start_time": "2022-05-21T10:51:56.309Z"
   },
   {
    "duration": 40,
    "start_time": "2022-05-21T10:51:57.010Z"
   },
   {
    "duration": 25,
    "start_time": "2022-05-21T10:52:00.329Z"
   },
   {
    "duration": 14,
    "start_time": "2022-05-21T10:52:02.399Z"
   },
   {
    "duration": 1065,
    "start_time": "2022-05-21T10:52:04.165Z"
   },
   {
    "duration": 19,
    "start_time": "2022-05-21T10:52:08.164Z"
   },
   {
    "duration": 227,
    "start_time": "2022-05-21T10:52:31.271Z"
   },
   {
    "duration": 2,
    "start_time": "2022-05-21T10:52:35.799Z"
   },
   {
    "duration": 24,
    "start_time": "2022-05-21T10:52:38.698Z"
   },
   {
    "duration": 4,
    "start_time": "2022-05-21T10:52:59.068Z"
   },
   {
    "duration": 5,
    "start_time": "2022-05-21T10:53:03.063Z"
   },
   {
    "duration": 30,
    "start_time": "2022-05-21T10:53:10.966Z"
   },
   {
    "duration": 11,
    "start_time": "2022-05-21T10:53:38.779Z"
   },
   {
    "duration": 4,
    "start_time": "2022-05-21T10:53:49.782Z"
   },
   {
    "duration": 66,
    "start_time": "2022-05-21T10:54:06.873Z"
   },
   {
    "duration": 15,
    "start_time": "2022-05-21T10:54:22.660Z"
   },
   {
    "duration": 70,
    "start_time": "2022-05-21T10:54:28.229Z"
   },
   {
    "duration": 9,
    "start_time": "2022-05-21T10:54:50.189Z"
   },
   {
    "duration": 4,
    "start_time": "2022-05-21T10:54:54.769Z"
   },
   {
    "duration": 191,
    "start_time": "2022-05-21T10:57:11.086Z"
   },
   {
    "duration": 5,
    "start_time": "2022-05-21T10:57:12.527Z"
   },
   {
    "duration": 10,
    "start_time": "2022-05-21T10:57:17.668Z"
   },
   {
    "duration": 5,
    "start_time": "2022-05-21T10:58:05.985Z"
   },
   {
    "duration": 152,
    "start_time": "2022-05-21T10:58:35.726Z"
   },
   {
    "duration": 3,
    "start_time": "2022-05-21T10:58:39.986Z"
   },
   {
    "duration": 693,
    "start_time": "2022-05-21T10:58:40.426Z"
   },
   {
    "duration": 39,
    "start_time": "2022-05-21T10:58:41.121Z"
   },
   {
    "duration": 24,
    "start_time": "2022-05-21T10:58:41.161Z"
   },
   {
    "duration": 15,
    "start_time": "2022-05-21T10:58:41.796Z"
   },
   {
    "duration": 1055,
    "start_time": "2022-05-21T10:58:42.565Z"
   },
   {
    "duration": 149,
    "start_time": "2022-05-21T10:58:44.197Z"
   },
   {
    "duration": 4,
    "start_time": "2022-05-21T11:00:29.276Z"
   },
   {
    "duration": 714,
    "start_time": "2022-05-21T11:00:29.764Z"
   },
   {
    "duration": 32,
    "start_time": "2022-05-21T11:00:30.480Z"
   },
   {
    "duration": 31,
    "start_time": "2022-05-21T11:00:30.796Z"
   },
   {
    "duration": 16,
    "start_time": "2022-05-21T11:00:32.005Z"
   },
   {
    "duration": 1078,
    "start_time": "2022-05-21T11:00:34.836Z"
   },
   {
    "duration": 167,
    "start_time": "2022-05-21T11:00:36.016Z"
   },
   {
    "duration": 858,
    "start_time": "2022-05-21T11:06:53.464Z"
   },
   {
    "duration": 39,
    "start_time": "2022-05-21T11:06:54.325Z"
   },
   {
    "duration": 23,
    "start_time": "2022-05-21T11:06:54.366Z"
   },
   {
    "duration": 22,
    "start_time": "2022-05-21T11:06:54.986Z"
   },
   {
    "duration": 1145,
    "start_time": "2022-05-21T11:06:56.172Z"
   },
   {
    "duration": 30,
    "start_time": "2022-05-21T11:06:57.766Z"
   },
   {
    "duration": 4,
    "start_time": "2022-05-21T11:07:06.573Z"
   },
   {
    "duration": 32,
    "start_time": "2022-05-21T11:07:12.386Z"
   },
   {
    "duration": 27,
    "start_time": "2022-05-21T11:07:31.204Z"
   },
   {
    "duration": 37,
    "start_time": "2022-05-21T11:14:57.786Z"
   },
   {
    "duration": 30,
    "start_time": "2022-05-21T11:15:03.869Z"
   },
   {
    "duration": 42,
    "start_time": "2022-05-21T11:15:10.126Z"
   },
   {
    "duration": 4,
    "start_time": "2022-05-21T11:18:10.888Z"
   },
   {
    "duration": 7,
    "start_time": "2022-05-21T11:18:27.318Z"
   },
   {
    "duration": 813,
    "start_time": "2022-05-21T11:19:25.768Z"
   },
   {
    "duration": 32,
    "start_time": "2022-05-21T11:19:26.583Z"
   },
   {
    "duration": 46,
    "start_time": "2022-05-21T11:19:26.617Z"
   },
   {
    "duration": 15,
    "start_time": "2022-05-21T11:19:27.671Z"
   },
   {
    "duration": 1274,
    "start_time": "2022-05-21T11:19:29.136Z"
   },
   {
    "duration": 41,
    "start_time": "2022-05-21T11:19:30.412Z"
   },
   {
    "duration": 6,
    "start_time": "2022-05-21T11:19:32.932Z"
   },
   {
    "duration": 31,
    "start_time": "2022-05-21T11:20:17.716Z"
   },
   {
    "duration": 61,
    "start_time": "2022-05-21T11:20:25.306Z"
   },
   {
    "duration": 3,
    "start_time": "2022-05-21T11:21:51.266Z"
   },
   {
    "duration": 17,
    "start_time": "2022-05-21T11:22:22.224Z"
   },
   {
    "duration": 448,
    "start_time": "2022-05-21T11:22:41.206Z"
   },
   {
    "duration": 5,
    "start_time": "2022-05-21T11:22:47.125Z"
   },
   {
    "duration": 381,
    "start_time": "2022-05-21T11:22:54.174Z"
   },
   {
    "duration": 5,
    "start_time": "2022-05-21T11:22:55.296Z"
   },
   {
    "duration": 336,
    "start_time": "2022-05-21T11:22:59.716Z"
   },
   {
    "duration": 4,
    "start_time": "2022-05-21T11:23:00.776Z"
   },
   {
    "duration": 3,
    "start_time": "2022-05-21T11:45:03.419Z"
   },
   {
    "duration": 7,
    "start_time": "2022-05-21T11:45:07.308Z"
   },
   {
    "duration": 5,
    "start_time": "2022-05-21T11:45:27.070Z"
   },
   {
    "duration": 9,
    "start_time": "2022-05-21T11:45:33.370Z"
   },
   {
    "duration": 5,
    "start_time": "2022-05-21T11:46:41.777Z"
   },
   {
    "duration": 10,
    "start_time": "2022-05-21T11:47:52.329Z"
   },
   {
    "duration": 4,
    "start_time": "2022-05-21T11:51:03.032Z"
   },
   {
    "duration": 641,
    "start_time": "2022-05-21T11:51:03.919Z"
   },
   {
    "duration": 4,
    "start_time": "2022-05-21T11:52:33.199Z"
   },
   {
    "duration": 531,
    "start_time": "2022-05-21T11:52:34.029Z"
   },
   {
    "duration": 9,
    "start_time": "2022-05-21T11:53:12.288Z"
   },
   {
    "duration": 4,
    "start_time": "2022-05-21T11:54:03.708Z"
   },
   {
    "duration": 3,
    "start_time": "2022-05-21T11:54:15.999Z"
   },
   {
    "duration": 6,
    "start_time": "2022-05-21T11:54:22.076Z"
   },
   {
    "duration": 482,
    "start_time": "2022-05-21T11:54:24.280Z"
   },
   {
    "duration": 4,
    "start_time": "2022-05-21T11:54:40.029Z"
   },
   {
    "duration": 332,
    "start_time": "2022-05-21T11:54:40.528Z"
   },
   {
    "duration": 5,
    "start_time": "2022-05-21T11:56:48.568Z"
   },
   {
    "duration": 5,
    "start_time": "2022-05-21T11:56:52.189Z"
   },
   {
    "duration": 440,
    "start_time": "2022-05-21T11:56:53.219Z"
   },
   {
    "duration": 4,
    "start_time": "2022-05-21T11:57:05.463Z"
   },
   {
    "duration": 626,
    "start_time": "2022-05-21T11:57:05.829Z"
   },
   {
    "duration": 4,
    "start_time": "2022-05-21T11:57:17.281Z"
   },
   {
    "duration": 784,
    "start_time": "2022-05-21T11:57:17.678Z"
   },
   {
    "duration": 4,
    "start_time": "2022-05-21T12:09:19.324Z"
   },
   {
    "duration": 622,
    "start_time": "2022-05-21T12:09:20.142Z"
   },
   {
    "duration": 4,
    "start_time": "2022-05-21T12:09:26.082Z"
   },
   {
    "duration": 544,
    "start_time": "2022-05-21T12:09:26.512Z"
   },
   {
    "duration": 994,
    "start_time": "2022-05-22T07:03:36.859Z"
   },
   {
    "duration": 705,
    "start_time": "2022-05-22T07:03:37.855Z"
   },
   {
    "duration": 34,
    "start_time": "2022-05-22T07:03:38.561Z"
   },
   {
    "duration": 39,
    "start_time": "2022-05-22T07:03:38.597Z"
   },
   {
    "duration": 15,
    "start_time": "2022-05-22T07:03:38.789Z"
   },
   {
    "duration": 1125,
    "start_time": "2022-05-22T07:03:39.969Z"
   },
   {
    "duration": 38,
    "start_time": "2022-05-22T07:03:41.399Z"
   },
   {
    "duration": 8,
    "start_time": "2022-05-22T07:03:42.389Z"
   },
   {
    "duration": 4,
    "start_time": "2022-05-22T07:03:43.138Z"
   },
   {
    "duration": 2,
    "start_time": "2022-05-22T07:03:46.481Z"
   },
   {
    "duration": 107,
    "start_time": "2022-05-22T07:06:48.514Z"
   },
   {
    "duration": 4,
    "start_time": "2022-05-22T07:08:25.722Z"
   },
   {
    "duration": 481,
    "start_time": "2022-05-22T07:08:34.847Z"
   },
   {
    "duration": 393,
    "start_time": "2022-05-22T07:08:46.838Z"
   },
   {
    "duration": 5,
    "start_time": "2022-05-22T07:12:00.716Z"
   },
   {
    "duration": 13,
    "start_time": "2022-05-22T07:12:50.893Z"
   },
   {
    "duration": 14,
    "start_time": "2022-05-22T07:14:07.026Z"
   },
   {
    "duration": 10,
    "start_time": "2022-05-22T07:14:13.206Z"
   },
   {
    "duration": 4,
    "start_time": "2022-05-22T07:14:16.366Z"
   },
   {
    "duration": 4729,
    "start_time": "2022-05-22T07:14:52.856Z"
   },
   {
    "duration": 10,
    "start_time": "2022-05-22T07:15:05.446Z"
   },
   {
    "duration": 4588,
    "start_time": "2022-05-22T07:16:41.526Z"
   },
   {
    "duration": 4713,
    "start_time": "2022-05-22T07:18:55.598Z"
   },
   {
    "duration": 4672,
    "start_time": "2022-05-22T07:20:51.609Z"
   },
   {
    "duration": 79,
    "start_time": "2022-05-22T07:21:40.229Z"
   },
   {
    "duration": 1889,
    "start_time": "2022-05-22T07:23:04.051Z"
   },
   {
    "duration": 8,
    "start_time": "2022-05-22T07:23:14.890Z"
   },
   {
    "duration": 8,
    "start_time": "2022-05-22T07:24:35.840Z"
   },
   {
    "duration": 5588,
    "start_time": "2022-05-22T07:28:35.952Z"
   },
   {
    "duration": 13,
    "start_time": "2022-05-22T07:28:54.234Z"
   },
   {
    "duration": 4,
    "start_time": "2022-05-22T07:29:52.393Z"
   },
   {
    "duration": 5611,
    "start_time": "2022-05-22T07:29:55.770Z"
   },
   {
    "duration": 10,
    "start_time": "2022-05-22T07:30:21.572Z"
   },
   {
    "duration": 2156,
    "start_time": "2022-05-22T07:33:54.735Z"
   },
   {
    "duration": 4,
    "start_time": "2022-05-22T07:34:35.343Z"
   },
   {
    "duration": 6045,
    "start_time": "2022-05-22T07:35:15.595Z"
   },
   {
    "duration": 10,
    "start_time": "2022-05-22T07:36:27.813Z"
   },
   {
    "duration": 14,
    "start_time": "2022-05-22T07:36:31.974Z"
   },
   {
    "duration": 5,
    "start_time": "2022-05-22T07:39:31.338Z"
   },
   {
    "duration": 5922,
    "start_time": "2022-05-22T07:39:33.814Z"
   },
   {
    "duration": 4,
    "start_time": "2022-05-22T07:40:37.139Z"
   },
   {
    "duration": 703,
    "start_time": "2022-05-22T07:40:37.617Z"
   },
   {
    "duration": 41,
    "start_time": "2022-05-22T07:40:38.322Z"
   },
   {
    "duration": 23,
    "start_time": "2022-05-22T07:40:38.365Z"
   },
   {
    "duration": 15,
    "start_time": "2022-05-22T07:40:38.746Z"
   },
   {
    "duration": 939,
    "start_time": "2022-05-22T07:40:39.257Z"
   },
   {
    "duration": 46,
    "start_time": "2022-05-22T07:40:40.198Z"
   },
   {
    "duration": 3,
    "start_time": "2022-05-22T07:40:40.247Z"
   },
   {
    "duration": 9,
    "start_time": "2022-05-22T07:40:40.252Z"
   },
   {
    "duration": 4,
    "start_time": "2022-05-22T07:40:41.543Z"
   },
   {
    "duration": 4,
    "start_time": "2022-05-22T07:41:17.750Z"
   },
   {
    "duration": 691,
    "start_time": "2022-05-22T07:41:18.206Z"
   },
   {
    "duration": 48,
    "start_time": "2022-05-22T07:41:18.899Z"
   },
   {
    "duration": 23,
    "start_time": "2022-05-22T07:41:18.949Z"
   },
   {
    "duration": 16,
    "start_time": "2022-05-22T07:41:19.737Z"
   },
   {
    "duration": 1081,
    "start_time": "2022-05-22T07:41:20.722Z"
   },
   {
    "duration": 25,
    "start_time": "2022-05-22T07:41:23.717Z"
   },
   {
    "duration": 9,
    "start_time": "2022-05-22T07:41:24.127Z"
   },
   {
    "duration": 5,
    "start_time": "2022-05-22T07:41:24.546Z"
   },
   {
    "duration": 3,
    "start_time": "2022-05-22T07:41:26.417Z"
   },
   {
    "duration": 5,
    "start_time": "2022-05-22T07:41:27.377Z"
   },
   {
    "duration": 5982,
    "start_time": "2022-05-22T07:41:27.787Z"
   },
   {
    "duration": 9,
    "start_time": "2022-05-22T07:41:33.771Z"
   },
   {
    "duration": 5,
    "start_time": "2022-05-22T08:52:42.505Z"
   },
   {
    "duration": 4,
    "start_time": "2022-05-22T09:52:35.829Z"
   },
   {
    "duration": 4,
    "start_time": "2022-05-22T09:52:52.180Z"
   },
   {
    "duration": 10,
    "start_time": "2022-05-22T09:55:19.130Z"
   },
   {
    "duration": 4,
    "start_time": "2022-05-22T09:55:57.950Z"
   },
   {
    "duration": 4,
    "start_time": "2022-05-22T09:56:04.830Z"
   },
   {
    "duration": 10,
    "start_time": "2022-05-22T10:01:10.810Z"
   },
   {
    "duration": 1218268,
    "start_time": "2022-05-22T10:01:49.941Z"
   },
   {
    "duration": 5,
    "start_time": "2022-05-22T10:28:50.090Z"
   },
   {
    "duration": 5,
    "start_time": "2022-05-22T10:30:39.010Z"
   },
   {
    "duration": 18,
    "start_time": "2022-05-22T10:32:09.675Z"
   },
   {
    "duration": 20,
    "start_time": "2022-05-22T10:32:17.788Z"
   },
   {
    "duration": 4,
    "start_time": "2022-05-22T10:32:32.683Z"
   },
   {
    "duration": 4,
    "start_time": "2022-05-22T10:33:05.428Z"
   },
   {
    "duration": 5,
    "start_time": "2022-05-22T10:34:55.235Z"
   },
   {
    "duration": 46,
    "start_time": "2022-05-22T10:35:17.707Z"
   },
   {
    "duration": 5066496,
    "start_time": "2022-05-22T11:38:35.054Z"
   },
   {
    "duration": 5,
    "start_time": "2022-05-22T13:07:26.459Z"
   },
   {
    "duration": 1446,
    "start_time": "2022-05-22T13:07:26.980Z"
   },
   {
    "duration": 4,
    "start_time": "2022-05-22T13:08:01.506Z"
   },
   {
    "duration": 4833,
    "start_time": "2022-05-22T13:08:02.586Z"
   },
   {
    "duration": 167821,
    "start_time": "2022-05-22T13:10:02.959Z"
   },
   {
    "duration": 9931845,
    "start_time": "2022-05-22T13:18:06.460Z"
   },
   {
    "duration": 5383715,
    "start_time": "2022-05-22T16:06:11.454Z"
   },
   {
    "duration": 3,
    "start_time": "2022-05-22T20:34:06.861Z"
   },
   {
    "duration": 4,
    "start_time": "2022-05-22T20:35:04.903Z"
   },
   {
    "duration": 15,
    "start_time": "2022-05-22T20:38:10.044Z"
   },
   {
    "duration": 16123,
    "start_time": "2022-05-22T20:38:37.012Z"
   },
   {
    "duration": 45,
    "start_time": "2022-05-22T20:39:59.460Z"
   },
   {
    "duration": 11073460,
    "start_time": "2022-05-22T21:05:28.932Z"
   },
   {
    "duration": 36,
    "start_time": "2022-05-23T09:00:36.452Z"
   },
   {
    "duration": 5,
    "start_time": "2022-05-23T09:02:18.760Z"
   },
   {
    "duration": 36,
    "start_time": "2022-05-23T09:02:24.068Z"
   },
   {
    "duration": 24,
    "start_time": "2022-05-23T09:02:27.837Z"
   },
   {
    "duration": 24,
    "start_time": "2022-05-23T09:02:30.544Z"
   },
   {
    "duration": 3,
    "start_time": "2022-05-23T09:04:28.001Z"
   },
   {
    "duration": 16,
    "start_time": "2022-05-23T09:04:32.497Z"
   },
   {
    "duration": 4,
    "start_time": "2022-05-23T09:04:53.027Z"
   },
   {
    "duration": 24,
    "start_time": "2022-05-23T09:06:38.517Z"
   },
   {
    "duration": 11,
    "start_time": "2022-05-23T09:09:52.266Z"
   },
   {
    "duration": 25,
    "start_time": "2022-05-23T09:10:00.707Z"
   },
   {
    "duration": 385,
    "start_time": "2022-05-23T09:13:51.013Z"
   },
   {
    "duration": 825,
    "start_time": "2022-05-23T09:15:41.286Z"
   },
   {
    "duration": 36,
    "start_time": "2022-05-23T09:19:29.172Z"
   },
   {
    "duration": 658,
    "start_time": "2022-05-23T09:22:20.113Z"
   },
   {
    "duration": 33,
    "start_time": "2022-05-23T09:22:20.772Z"
   },
   {
    "duration": 27,
    "start_time": "2022-05-23T09:22:24.222Z"
   },
   {
    "duration": 35,
    "start_time": "2022-05-23T09:22:26.493Z"
   },
   {
    "duration": 40,
    "start_time": "2022-05-23T09:26:22.722Z"
   },
   {
    "duration": 5,
    "start_time": "2022-05-23T09:28:14.469Z"
   },
   {
    "duration": 680,
    "start_time": "2022-05-23T09:28:15.172Z"
   },
   {
    "duration": 33,
    "start_time": "2022-05-23T09:28:15.854Z"
   },
   {
    "duration": 23,
    "start_time": "2022-05-23T09:28:19.733Z"
   },
   {
    "duration": 23,
    "start_time": "2022-05-23T09:28:21.213Z"
   },
   {
    "duration": 23,
    "start_time": "2022-05-23T09:28:27.642Z"
   },
   {
    "duration": 14,
    "start_time": "2022-05-23T09:28:53.084Z"
   },
   {
    "duration": 30,
    "start_time": "2022-05-23T09:28:53.363Z"
   },
   {
    "duration": 14,
    "start_time": "2022-05-23T09:29:32.022Z"
   },
   {
    "duration": 14,
    "start_time": "2022-05-23T09:29:46.502Z"
   },
   {
    "duration": 10,
    "start_time": "2022-05-23T09:29:59.955Z"
   },
   {
    "duration": 23,
    "start_time": "2022-05-23T09:30:14.613Z"
   },
   {
    "duration": 4,
    "start_time": "2022-05-23T09:30:30.034Z"
   },
   {
    "duration": 8,
    "start_time": "2022-05-23T09:30:40.422Z"
   },
   {
    "duration": 813,
    "start_time": "2022-05-23T09:30:42.773Z"
   },
   {
    "duration": 25,
    "start_time": "2022-05-23T09:32:35.915Z"
   },
   {
    "duration": 11,
    "start_time": "2022-05-23T09:32:49.796Z"
   },
   {
    "duration": 346,
    "start_time": "2022-05-23T09:32:50.208Z"
   },
   {
    "duration": 12,
    "start_time": "2022-05-23T09:35:16.745Z"
   },
   {
    "duration": 380,
    "start_time": "2022-05-23T09:35:17.359Z"
   },
   {
    "duration": 14,
    "start_time": "2022-05-23T09:35:33.348Z"
   },
   {
    "duration": 679,
    "start_time": "2022-05-23T10:30:15.762Z"
   },
   {
    "duration": 273,
    "start_time": "2022-05-23T10:30:34.634Z"
   },
   {
    "duration": 8,
    "start_time": "2022-05-23T10:30:44.132Z"
   },
   {
    "duration": 413,
    "start_time": "2022-05-23T10:31:16.663Z"
   },
   {
    "duration": 8,
    "start_time": "2022-05-23T10:31:18.762Z"
   },
   {
    "duration": 534,
    "start_time": "2022-05-23T10:52:23.465Z"
   },
   {
    "duration": 35,
    "start_time": "2022-05-23T10:54:37.716Z"
   },
   {
    "duration": 43,
    "start_time": "2022-05-23T10:55:20.626Z"
   },
   {
    "duration": 17,
    "start_time": "2022-05-23T10:55:32.533Z"
   },
   {
    "duration": 21,
    "start_time": "2022-05-23T10:56:00.499Z"
   },
   {
    "duration": 37,
    "start_time": "2022-05-23T10:57:56.572Z"
   },
   {
    "duration": 5,
    "start_time": "2022-05-23T10:58:26.711Z"
   },
   {
    "duration": 22,
    "start_time": "2022-05-23T10:58:35.460Z"
   },
   {
    "duration": 11,
    "start_time": "2022-05-23T10:59:54.710Z"
   },
   {
    "duration": 10,
    "start_time": "2022-05-23T10:59:59.000Z"
   },
   {
    "duration": 14,
    "start_time": "2022-05-23T11:00:01.899Z"
   },
   {
    "duration": 95,
    "start_time": "2022-05-23T11:05:46.001Z"
   },
   {
    "duration": 22,
    "start_time": "2022-05-23T11:05:53.940Z"
   },
   {
    "duration": 19,
    "start_time": "2022-05-23T11:08:16.609Z"
   },
   {
    "duration": 31,
    "start_time": "2022-05-23T11:10:01.169Z"
   },
   {
    "duration": 15,
    "start_time": "2022-05-23T11:11:43.958Z"
   },
   {
    "duration": 32,
    "start_time": "2022-05-23T11:11:45.008Z"
   },
   {
    "duration": 16,
    "start_time": "2022-05-23T11:13:47.978Z"
   },
   {
    "duration": 367,
    "start_time": "2022-05-23T11:13:50.968Z"
   },
   {
    "duration": 564,
    "start_time": "2022-05-23T11:14:11.968Z"
   },
   {
    "duration": 12,
    "start_time": "2022-05-23T11:14:54.117Z"
   },
   {
    "duration": 4,
    "start_time": "2022-05-23T11:15:00.128Z"
   },
   {
    "duration": 4,
    "start_time": "2022-05-23T11:15:09.978Z"
   },
   {
    "duration": 4,
    "start_time": "2022-05-23T11:15:23.088Z"
   },
   {
    "duration": 4,
    "start_time": "2022-05-23T11:15:33.688Z"
   },
   {
    "duration": 1603,
    "start_time": "2022-05-23T11:17:26.948Z"
   },
   {
    "duration": 8,
    "start_time": "2022-05-23T11:17:39.750Z"
   },
   {
    "duration": 4,
    "start_time": "2022-05-23T11:22:26.918Z"
   },
   {
    "duration": 12,
    "start_time": "2022-05-23T11:22:27.818Z"
   },
   {
    "duration": 433,
    "start_time": "2022-05-23T11:47:22.503Z"
   },
   {
    "duration": 9642,
    "start_time": "2022-05-23T11:49:06.093Z"
   },
   {
    "duration": 9945,
    "start_time": "2022-05-23T11:50:04.503Z"
   },
   {
    "duration": 8,
    "start_time": "2022-05-23T11:50:21.053Z"
   },
   {
    "duration": 3,
    "start_time": "2022-05-23T11:51:46.893Z"
   },
   {
    "duration": 5,
    "start_time": "2022-05-23T11:53:22.333Z"
   },
   {
    "duration": 17,
    "start_time": "2022-05-23T11:53:23.342Z"
   },
   {
    "duration": 15,
    "start_time": "2022-05-23T11:55:07.140Z"
   },
   {
    "duration": 14,
    "start_time": "2022-05-23T11:56:13.225Z"
   },
   {
    "duration": 23,
    "start_time": "2022-05-23T11:59:47.769Z"
   },
   {
    "duration": 4,
    "start_time": "2022-05-23T12:22:37.164Z"
   },
   {
    "duration": 694,
    "start_time": "2022-05-23T12:22:38.534Z"
   },
   {
    "duration": 36,
    "start_time": "2022-05-23T12:22:39.230Z"
   },
   {
    "duration": 24,
    "start_time": "2022-05-23T12:22:39.644Z"
   },
   {
    "duration": 13,
    "start_time": "2022-05-23T12:22:40.324Z"
   },
   {
    "duration": 15,
    "start_time": "2022-05-23T12:22:42.044Z"
   },
   {
    "duration": 1164,
    "start_time": "2022-05-23T12:23:01.244Z"
   },
   {
    "duration": 37,
    "start_time": "2022-05-23T12:23:02.410Z"
   },
   {
    "duration": 23,
    "start_time": "2022-05-23T12:23:02.554Z"
   },
   {
    "duration": 586630,
    "start_time": "2022-05-23T12:23:11.754Z"
   },
   {
    "duration": 3,
    "start_time": "2022-05-23T12:32:58.386Z"
   },
   {
    "duration": 21,
    "start_time": "2022-05-23T12:32:58.390Z"
   },
   {
    "duration": 672,
    "start_time": "2022-05-23T12:32:58.413Z"
   },
   {
    "duration": 16,
    "start_time": "2022-05-23T12:32:59.087Z"
   },
   {
    "duration": 425,
    "start_time": "2022-05-23T12:32:59.105Z"
   },
   {
    "duration": 10508,
    "start_time": "2022-05-23T12:32:59.531Z"
   },
   {
    "duration": 4,
    "start_time": "2022-05-23T12:33:10.041Z"
   },
   {
    "duration": 4840,
    "start_time": "2022-05-23T12:33:10.046Z"
   },
   {
    "duration": 48,
    "start_time": "2022-05-23T12:33:14.888Z"
   },
   {
    "duration": 11112,
    "start_time": "2022-05-23T12:33:14.938Z"
   },
   {
    "duration": 4,
    "start_time": "2022-05-23T12:33:26.053Z"
   },
   {
    "duration": 24,
    "start_time": "2022-05-23T12:33:26.058Z"
   },
   {
    "duration": 17,
    "start_time": "2022-05-23T12:44:55.342Z"
   },
   {
    "duration": 15,
    "start_time": "2022-05-23T12:45:36.343Z"
   },
   {
    "duration": 420,
    "start_time": "2022-05-23T12:46:33.363Z"
   },
   {
    "duration": 11,
    "start_time": "2022-05-23T12:46:48.143Z"
   },
   {
    "duration": 689,
    "start_time": "2022-05-23T12:47:05.322Z"
   },
   {
    "duration": 16,
    "start_time": "2022-05-23T12:47:47.164Z"
   },
   {
    "duration": 11,
    "start_time": "2022-05-23T12:47:51.002Z"
   },
   {
    "duration": 7,
    "start_time": "2022-05-23T12:48:01.139Z"
   },
   {
    "duration": 15,
    "start_time": "2022-05-23T12:48:08.162Z"
   },
   {
    "duration": 16,
    "start_time": "2022-05-23T12:48:14.393Z"
   },
   {
    "duration": 6,
    "start_time": "2022-05-23T12:48:20.412Z"
   },
   {
    "duration": 12,
    "start_time": "2022-05-23T12:48:29.862Z"
   },
   {
    "duration": 40,
    "start_time": "2022-05-23T12:48:34.492Z"
   },
   {
    "duration": 15,
    "start_time": "2022-05-23T12:48:38.482Z"
   },
   {
    "duration": 8,
    "start_time": "2022-05-23T12:48:43.143Z"
   },
   {
    "duration": 7,
    "start_time": "2022-05-23T12:49:05.972Z"
   },
   {
    "duration": 4,
    "start_time": "2022-05-23T12:50:32.252Z"
   },
   {
    "duration": 6,
    "start_time": "2022-05-23T12:50:35.021Z"
   },
   {
    "duration": 7,
    "start_time": "2022-05-23T12:50:44.002Z"
   },
   {
    "duration": 17,
    "start_time": "2022-05-23T12:51:18.092Z"
   },
   {
    "duration": 17,
    "start_time": "2022-05-23T12:51:41.122Z"
   },
   {
    "duration": 18,
    "start_time": "2022-05-23T12:52:45.652Z"
   },
   {
    "duration": 17,
    "start_time": "2022-05-23T12:54:22.472Z"
   },
   {
    "duration": 19,
    "start_time": "2022-05-23T12:55:07.290Z"
   },
   {
    "duration": 13,
    "start_time": "2022-05-24T12:17:49.593Z"
   },
   {
    "duration": 3,
    "start_time": "2022-05-25T07:02:15.723Z"
   },
   {
    "duration": 56,
    "start_time": "2022-05-25T07:36:41.376Z"
   },
   {
    "duration": 1039,
    "start_time": "2022-05-25T07:36:48.975Z"
   },
   {
    "duration": 710,
    "start_time": "2022-05-25T07:36:50.016Z"
   },
   {
    "duration": 35,
    "start_time": "2022-05-25T07:36:50.728Z"
   },
   {
    "duration": 1889,
    "start_time": "2022-05-25T07:36:52.807Z"
   },
   {
    "duration": 4,
    "start_time": "2022-05-25T07:37:49.927Z"
   },
   {
    "duration": 6,
    "start_time": "2022-05-25T07:50:12.828Z"
   },
   {
    "duration": 12,
    "start_time": "2022-05-25T07:50:19.568Z"
   },
   {
    "duration": 12,
    "start_time": "2022-05-25T07:50:31.998Z"
   },
   {
    "duration": 11,
    "start_time": "2022-05-25T07:50:36.998Z"
   },
   {
    "duration": 5,
    "start_time": "2022-05-25T07:54:52.801Z"
   },
   {
    "duration": 11,
    "start_time": "2022-05-25T07:54:54.441Z"
   },
   {
    "duration": 21,
    "start_time": "2022-05-25T07:54:57.761Z"
   },
   {
    "duration": 22,
    "start_time": "2022-05-25T07:57:12.316Z"
   },
   {
    "duration": 9,
    "start_time": "2022-05-25T07:58:47.168Z"
   },
   {
    "duration": 27,
    "start_time": "2022-05-25T07:58:56.139Z"
   },
   {
    "duration": 11,
    "start_time": "2022-05-25T07:59:13.697Z"
   },
   {
    "duration": 1284,
    "start_time": "2022-05-25T08:00:42.372Z"
   },
   {
    "duration": 42,
    "start_time": "2022-05-25T08:00:43.658Z"
   },
   {
    "duration": 22,
    "start_time": "2022-05-25T08:00:43.702Z"
   },
   {
    "duration": 19,
    "start_time": "2022-05-25T08:03:21.861Z"
   },
   {
    "duration": 14,
    "start_time": "2022-05-25T08:04:14.371Z"
   },
   {
    "duration": 4,
    "start_time": "2022-05-25T08:04:53.021Z"
   },
   {
    "duration": 10,
    "start_time": "2022-05-25T08:04:54.502Z"
   },
   {
    "duration": 742,
    "start_time": "2022-05-25T08:04:55.073Z"
   },
   {
    "duration": 16,
    "start_time": "2022-05-25T08:04:57.731Z"
   },
   {
    "duration": 637,
    "start_time": "2022-05-25T08:05:01.182Z"
   },
   {
    "duration": 10405,
    "start_time": "2022-05-25T08:05:04.711Z"
   },
   {
    "duration": 4,
    "start_time": "2022-05-25T08:05:15.118Z"
   },
   {
    "duration": 4047,
    "start_time": "2022-05-25T08:05:23.651Z"
   },
   {
    "duration": 70,
    "start_time": "2022-05-25T08:05:27.700Z"
   },
   {
    "duration": 0,
    "start_time": "2022-05-25T08:05:27.771Z"
   },
   {
    "duration": 0,
    "start_time": "2022-05-25T08:05:27.772Z"
   },
   {
    "duration": 16,
    "start_time": "2022-05-25T08:05:29.182Z"
   },
   {
    "duration": 3,
    "start_time": "2022-05-25T08:06:25.683Z"
   },
   {
    "duration": 3,
    "start_time": "2022-05-25T08:06:34.062Z"
   },
   {
    "duration": 10,
    "start_time": "2022-05-25T08:06:34.901Z"
   },
   {
    "duration": 356,
    "start_time": "2022-05-25T08:06:35.232Z"
   },
   {
    "duration": 15,
    "start_time": "2022-05-25T08:06:35.981Z"
   },
   {
    "duration": 71270,
    "start_time": "2022-05-25T08:06:36.232Z"
   },
   {
    "duration": 62029,
    "start_time": "2022-05-25T08:07:47.504Z"
   },
   {
    "duration": 4,
    "start_time": "2022-05-25T08:08:49.534Z"
   },
   {
    "duration": 4137,
    "start_time": "2022-05-25T08:08:49.539Z"
   },
   {
    "duration": 37,
    "start_time": "2022-05-25T08:08:53.678Z"
   },
   {
    "duration": 8324,
    "start_time": "2022-05-25T08:08:53.717Z"
   },
   {
    "duration": 5,
    "start_time": "2022-05-25T08:09:02.043Z"
   },
   {
    "duration": 37,
    "start_time": "2022-05-25T08:09:02.049Z"
   },
   {
    "duration": 9,
    "start_time": "2022-05-25T09:03:07.215Z"
   },
   {
    "duration": 492087,
    "start_time": "2022-05-25T09:05:17.789Z"
   },
   {
    "duration": 541488,
    "start_time": "2022-05-25T09:21:48.173Z"
   },
   {
    "duration": 7,
    "start_time": "2022-05-25T09:30:49.663Z"
   },
   {
    "duration": 19752,
    "start_time": "2022-05-25T10:54:19.215Z"
   },
   {
    "duration": 8,
    "start_time": "2022-05-25T10:56:28.495Z"
   },
   {
    "duration": 210778,
    "start_time": "2022-05-25T10:57:57.300Z"
   },
   {
    "duration": 8,
    "start_time": "2022-05-25T11:03:47.830Z"
   },
   {
    "duration": 338900,
    "start_time": "2022-05-25T11:07:49.044Z"
   },
   {
    "duration": 8,
    "start_time": "2022-05-25T11:19:12.294Z"
   },
   {
    "duration": 973,
    "start_time": "2022-05-25T11:23:56.213Z"
   },
   {
    "duration": 651,
    "start_time": "2022-05-25T11:23:57.188Z"
   },
   {
    "duration": 34,
    "start_time": "2022-05-25T11:23:57.841Z"
   },
   {
    "duration": 1828,
    "start_time": "2022-05-25T11:23:57.876Z"
   },
   {
    "duration": 6,
    "start_time": "2022-05-25T11:23:59.707Z"
   },
   {
    "duration": 18,
    "start_time": "2022-05-25T11:23:59.715Z"
   },
   {
    "duration": 25,
    "start_time": "2022-05-25T11:23:59.735Z"
   },
   {
    "duration": 12,
    "start_time": "2022-05-25T11:23:59.761Z"
   },
   {
    "duration": 10,
    "start_time": "2022-05-25T11:23:59.795Z"
   },
   {
    "duration": 1152,
    "start_time": "2022-05-25T11:23:59.807Z"
   },
   {
    "duration": 37,
    "start_time": "2022-05-25T11:24:00.961Z"
   },
   {
    "duration": 539795,
    "start_time": "2022-05-25T11:24:01.000Z"
   },
   {
    "duration": 340863,
    "start_time": "2022-05-25T11:33:00.797Z"
   },
   {
    "duration": 3,
    "start_time": "2022-05-25T11:38:41.663Z"
   },
   {
    "duration": 27,
    "start_time": "2022-05-25T11:38:41.667Z"
   },
   {
    "duration": 512,
    "start_time": "2022-05-25T11:38:41.696Z"
   },
   {
    "duration": 15,
    "start_time": "2022-05-25T11:38:42.209Z"
   },
   {
    "duration": 595,
    "start_time": "2022-05-25T11:38:42.226Z"
   },
   {
    "duration": 9575,
    "start_time": "2022-05-25T11:38:42.822Z"
   },
   {
    "duration": 4,
    "start_time": "2022-05-25T11:38:52.399Z"
   },
   {
    "duration": 3955,
    "start_time": "2022-05-25T11:38:52.404Z"
   },
   {
    "duration": 19,
    "start_time": "2022-05-25T11:38:56.361Z"
   },
   {
    "duration": 343392,
    "start_time": "2022-05-25T11:42:38.442Z"
   },
   {
    "duration": 3,
    "start_time": "2022-05-25T11:48:21.836Z"
   },
   {
    "duration": 19,
    "start_time": "2022-05-25T11:48:21.841Z"
   },
   {
    "duration": 381,
    "start_time": "2022-05-25T11:48:21.862Z"
   },
   {
    "duration": 15,
    "start_time": "2022-05-25T11:48:22.244Z"
   },
   {
    "duration": 338,
    "start_time": "2022-05-25T11:48:22.260Z"
   },
   {
    "duration": 11600,
    "start_time": "2022-05-25T11:48:22.599Z"
   },
   {
    "duration": 4,
    "start_time": "2022-05-25T11:48:34.200Z"
   },
   {
    "duration": 3965,
    "start_time": "2022-05-25T11:48:34.206Z"
   },
   {
    "duration": 33,
    "start_time": "2022-05-25T11:48:38.174Z"
   }
  ],
  "kernelspec": {
   "display_name": "Python 3 (ipykernel)",
   "language": "python",
   "name": "python3"
  },
  "language_info": {
   "codemirror_mode": {
    "name": "ipython",
    "version": 3
   },
   "file_extension": ".py",
   "mimetype": "text/x-python",
   "name": "python",
   "nbconvert_exporter": "python",
   "pygments_lexer": "ipython3",
   "version": "3.9.7"
  },
  "toc": {
   "base_numbering": 1,
   "nav_menu": {},
   "number_sections": true,
   "sideBar": true,
   "skip_h1_title": true,
   "title_cell": "Table of Contents",
   "title_sidebar": "Contents",
   "toc_cell": false,
   "toc_position": {},
   "toc_section_display": true,
   "toc_window_display": false
  }
 },
 "nbformat": 4,
 "nbformat_minor": 2
}
